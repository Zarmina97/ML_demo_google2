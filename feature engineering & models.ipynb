{
 "cells": [
  {
   "cell_type": "markdown",
   "id": "b982b9c2-ed82-448b-9058-179e4c127f68",
   "metadata": {},
   "source": [
    "# Modules"
   ]
  },
  {
   "cell_type": "code",
   "execution_count": 103,
   "id": "b93a095c-f1b6-4f81-9d74-b587907f1035",
   "metadata": {
    "tags": []
   },
   "outputs": [
    {
     "name": "stdout",
     "output_type": "stream",
     "text": [
      "Collecting catboost\n",
      "  Downloading catboost-1.2.2-cp310-cp310-manylinux2014_x86_64.whl.metadata (1.2 kB)\n",
      "Collecting graphviz (from catboost)\n",
      "  Downloading graphviz-0.20.1-py3-none-any.whl (47 kB)\n",
      "\u001b[2K     \u001b[90m━━━━━━━━━━━━━━━━━━━━━━━━━━━━━━━━━━━━━━━━\u001b[0m \u001b[32m47.0/47.0 kB\u001b[0m \u001b[31m4.6 MB/s\u001b[0m eta \u001b[36m0:00:00\u001b[0m\n",
      "\u001b[?25hRequirement already satisfied: matplotlib in /opt/conda/lib/python3.10/site-packages (from catboost) (3.8.2)\n",
      "Requirement already satisfied: numpy>=1.16.0 in /opt/conda/lib/python3.10/site-packages (from catboost) (1.25.2)\n",
      "Requirement already satisfied: pandas>=0.24 in /opt/conda/lib/python3.10/site-packages (from catboost) (2.2.0)\n",
      "Requirement already satisfied: scipy in /opt/conda/lib/python3.10/site-packages (from catboost) (1.11.4)\n",
      "Requirement already satisfied: plotly in /opt/conda/lib/python3.10/site-packages (from catboost) (5.18.0)\n",
      "Requirement already satisfied: six in /opt/conda/lib/python3.10/site-packages (from catboost) (1.16.0)\n",
      "Requirement already satisfied: python-dateutil>=2.8.2 in /opt/conda/lib/python3.10/site-packages (from pandas>=0.24->catboost) (2.8.2)\n",
      "Requirement already satisfied: pytz>=2020.1 in /opt/conda/lib/python3.10/site-packages (from pandas>=0.24->catboost) (2023.4)\n",
      "Requirement already satisfied: tzdata>=2022.7 in /opt/conda/lib/python3.10/site-packages (from pandas>=0.24->catboost) (2023.4)\n",
      "Requirement already satisfied: contourpy>=1.0.1 in /opt/conda/lib/python3.10/site-packages (from matplotlib->catboost) (1.2.0)\n",
      "Requirement already satisfied: cycler>=0.10 in /opt/conda/lib/python3.10/site-packages (from matplotlib->catboost) (0.12.1)\n",
      "Requirement already satisfied: fonttools>=4.22.0 in /opt/conda/lib/python3.10/site-packages (from matplotlib->catboost) (4.47.2)\n",
      "Requirement already satisfied: kiwisolver>=1.3.1 in /opt/conda/lib/python3.10/site-packages (from matplotlib->catboost) (1.4.5)\n",
      "Requirement already satisfied: packaging>=20.0 in /opt/conda/lib/python3.10/site-packages (from matplotlib->catboost) (23.2)\n",
      "Requirement already satisfied: pillow>=8 in /opt/conda/lib/python3.10/site-packages (from matplotlib->catboost) (10.2.0)\n",
      "Requirement already satisfied: pyparsing>=2.3.1 in /opt/conda/lib/python3.10/site-packages (from matplotlib->catboost) (3.1.1)\n",
      "Requirement already satisfied: tenacity>=6.2.0 in /opt/conda/lib/python3.10/site-packages (from plotly->catboost) (8.2.3)\n",
      "Downloading catboost-1.2.2-cp310-cp310-manylinux2014_x86_64.whl (98.7 MB)\n",
      "\u001b[2K   \u001b[90m━━━━━━━━━━━━━━━━━━━━━━━━━━━━━━━━━━━━━━━━\u001b[0m \u001b[32m98.7/98.7 MB\u001b[0m \u001b[31m12.6 MB/s\u001b[0m eta \u001b[36m0:00:00\u001b[0m:00:01\u001b[0m00:01\u001b[0m\n",
      "\u001b[?25hInstalling collected packages: graphviz, catboost\n",
      "Successfully installed catboost-1.2.2 graphviz-0.20.1\n",
      "Note: you may need to restart the kernel to use updated packages.\n"
     ]
    }
   ],
   "source": [
    "# pip install catboost\n"
   ]
  },
  {
   "cell_type": "code",
   "execution_count": 1,
   "id": "b2b89bfa-a561-4c6e-b587-6fd270268d8d",
   "metadata": {},
   "outputs": [],
   "source": [
    "import pandas as pd \n",
    "import numpy as np \n",
    "import matplotlib.pyplot as plt \n",
    "import seaborn as sns \n",
    "\n",
    "from sklearn.model_selection import train_test_split\n",
    "from sklearn.preprocessing import StandardScaler \n",
    "from sklearn.linear_model import LinearRegression \n",
    "from sklearn.linear_model import Lasso \n",
    "from sklearn.linear_model import Ridge \n",
    "from sklearn.svm import SVR \n",
    "from sklearn.tree import DecisionTreeRegressor \n",
    "from sklearn.metrics import mean_squared_error \n",
    "from sklearn.metrics import make_scorer \n",
    "from sklearn.model_selection import GridSearchCV \n",
    "from sklearn.ensemble import RandomForestRegressor\n",
    "from sklearn.ensemble import GradientBoostingRegressor\n",
    "import xgboost as xgb\n",
    "import lightgbm as lgb\n",
    "from catboost import CatBoostRegressor\n",
    "\n",
    "#For Warnings\n",
    "import warnings\n",
    "warnings.filterwarnings('ignore') "
   ]
  },
  {
   "cell_type": "code",
   "execution_count": 2,
   "id": "679b0769-8d02-48fe-85ee-0b0b77d3bb49",
   "metadata": {
    "tags": []
   },
   "outputs": [],
   "source": [
    "df_train=pd.read_csv(\"data/train.csv\")\n",
    "df_test=pd.read_csv(\"data/test.csv\")"
   ]
  },
  {
   "cell_type": "code",
   "execution_count": 3,
   "id": "34d3f099-8c2d-4fb5-9b25-73bebe5f1556",
   "metadata": {
    "tags": []
   },
   "outputs": [
    {
     "name": "stdout",
     "output_type": "stream",
     "text": [
      "<class 'pandas.core.frame.DataFrame'>\n",
      "RangeIndex: 783667 entries, 0 to 783666\n",
      "Data columns (total 12 columns):\n",
      " #   Column                      Non-Null Count   Dtype  \n",
      "---  ------                      --------------   -----  \n",
      " 0   User_ID                     783667 non-null  int64  \n",
      " 1   Product_ID                  783667 non-null  object \n",
      " 2   Gender                      783667 non-null  object \n",
      " 3   Age                         783667 non-null  object \n",
      " 4   Occupation                  783667 non-null  int64  \n",
      " 5   City_Category               783667 non-null  object \n",
      " 6   Stay_In_Current_City_Years  783667 non-null  object \n",
      " 7   Marital_Status              783667 non-null  int64  \n",
      " 8   Product_Category_1          783667 non-null  int64  \n",
      " 9   Product_Category_2          537685 non-null  float64\n",
      " 10  Product_Category_3          237858 non-null  float64\n",
      " 11  Purchase                    550068 non-null  float64\n",
      "dtypes: float64(3), int64(4), object(5)\n",
      "memory usage: 71.7+ MB\n"
     ]
    }
   ],
   "source": [
    "df=pd.concat([df_train, df_test], ignore_index=True)\n",
    "df.info()"
   ]
  },
  {
   "cell_type": "code",
   "execution_count": 4,
   "id": "34a25d8a-2652-40b0-ab5f-0c7ed7d0f81c",
   "metadata": {
    "tags": []
   },
   "outputs": [],
   "source": [
    "df = df.drop(['User_ID','Product_ID'] , axis = 1)"
   ]
  },
  {
   "cell_type": "code",
   "execution_count": 5,
   "id": "419849bc-137d-4283-a6aa-fea21af1c1a4",
   "metadata": {
    "tags": []
   },
   "outputs": [
    {
     "name": "stdout",
     "output_type": "stream",
     "text": [
      "Total number of duplicated rows in data are: 147232\n"
     ]
    }
   ],
   "source": [
    "print(f\"Total number of duplicated rows in data are: {df.duplicated().sum()}\") "
   ]
  },
  {
   "cell_type": "code",
   "execution_count": 6,
   "id": "944ce5bf-4880-4762-9278-02ddbe8f1831",
   "metadata": {
    "tags": []
   },
   "outputs": [
    {
     "name": "stdout",
     "output_type": "stream",
     "text": [
      "Categorical Columns are : Index(['Gender', 'Age', 'City_Category', 'Stay_In_Current_City_Years'], dtype='object')\n"
     ]
    }
   ],
   "source": [
    "def cat_cols(df) : \n",
    "    o = (df.dtypes == 'object')\n",
    "    object_cols = o[o].index \n",
    "    return object_cols\n",
    "\n",
    "object_cols = cat_cols(df)\n",
    "print(f\"Categorical Columns are : {object_cols}\")"
   ]
  },
  {
   "cell_type": "markdown",
   "id": "1beffdf6-f185-4e7b-a0ac-8861042fb130",
   "metadata": {},
   "source": [
    "# Features Engineering"
   ]
  },
  {
   "cell_type": "markdown",
   "id": "4f7e84a7-ef9c-4507-beb3-a60237cdcefa",
   "metadata": {},
   "source": [
    "## utils "
   ]
  },
  {
   "cell_type": "code",
   "execution_count": 7,
   "id": "2fe10735-25c5-4716-a055-69ab1c3d7ca1",
   "metadata": {
    "tags": []
   },
   "outputs": [],
   "source": [
    "def missing_vals(df): \n",
    "    for i in df :\n",
    "        if df[i].isnull().sum() > 0 : \n",
    "            print(f\"{i} : {df[i].isnull().sum()} missing values out of {len(df[i])}\")\n",
    "    else : \n",
    "        print(\"No missing columns.\")\n",
    "        \n",
    "def splitted_data(features , label) : \n",
    "    x_train,x_test,y_train,y_test = train_test_split(features, label , test_size = 0.3)\n",
    "    \n",
    "    print(f\"Shape of x_train : {x_train.shape}\")\n",
    "    print(f\"Shape of y_train : {y_train.shape}\")\n",
    "    print(f\"Shape of x_test : {x_test.shape}\")\n",
    "    print(f\"Shape of y_test: {y_test.shape}\")\n",
    "    return x_train,x_test,y_train,y_test"
   ]
  },
  {
   "cell_type": "code",
   "execution_count": 8,
   "id": "11b3f944-7ac0-4c09-bce9-59434db417f6",
   "metadata": {
    "tags": []
   },
   "outputs": [],
   "source": [
    "age_mapping = {'0-17': 0, '18-25': 1, '26-35': 2, '36-45': 3, '46-50': 4, '51-55': 5, '55+': 6}\n",
    "df['Age'] = df['Age'].map(age_mapping)\n"
   ]
  },
  {
   "cell_type": "code",
   "execution_count": 9,
   "id": "eb8a3bf4-0a74-4fe2-90cc-c1f5fe037fb8",
   "metadata": {
    "tags": []
   },
   "outputs": [],
   "source": [
    "df['Gender'] = df['Gender'].map({'M' : 1 , 'F' : 0})"
   ]
  },
  {
   "cell_type": "code",
   "execution_count": 10,
   "id": "e56067ad-feb7-421e-9a54-56c308ec0a60",
   "metadata": {
    "tags": []
   },
   "outputs": [],
   "source": [
    "df['City_Category'] = df['City_Category'].map({'A' : 0 , 'B' : 1, 'C':2})"
   ]
  },
  {
   "cell_type": "code",
   "execution_count": 11,
   "id": "3d63ffd0-636d-471a-ae82-b2abc7fa1bca",
   "metadata": {
    "tags": []
   },
   "outputs": [],
   "source": [
    "df['Stay_In_Current_City_Years'] = df['Stay_In_Current_City_Years'].map({ '2' : 2 , '4+' : 4 , '3' : 3, '1' : 1, '0' : 0})\n"
   ]
  },
  {
   "cell_type": "code",
   "execution_count": 12,
   "id": "92004cd4-241d-4b31-b53e-d080aae217ac",
   "metadata": {
    "tags": []
   },
   "outputs": [
    {
     "name": "stdout",
     "output_type": "stream",
     "text": [
      "Product_Category_2 : 245982 missing values out of 783667\n",
      "Product_Category_3 : 545809 missing values out of 783667\n",
      "Purchase : 233599 missing values out of 783667\n",
      "No missing columns.\n"
     ]
    }
   ],
   "source": [
    "missing_vals(df)"
   ]
  },
  {
   "cell_type": "code",
   "execution_count": 13,
   "id": "5b734a29-7cbd-4f41-b465-fc4ec0d33d8d",
   "metadata": {
    "tags": []
   },
   "outputs": [],
   "source": [
    "df['Product_Category_2'] = df['Product_Category_2'].fillna(df['Product_Category_2'].mode()[0] )\n",
    "df['Product_Category_3'] = df['Product_Category_3'].fillna(df['Product_Category_3'].mode()[0] )\n"
   ]
  },
  {
   "cell_type": "code",
   "execution_count": 14,
   "id": "8c92fb5d-fac9-4ed6-872b-fa35f909020a",
   "metadata": {
    "tags": []
   },
   "outputs": [],
   "source": [
    "df_test = [df['Purchase'].isnull()]\n",
    "df_train = df[~df['Purchase'].isnull()]"
   ]
  },
  {
   "cell_type": "code",
   "execution_count": 15,
   "id": "8edd9293-c6f2-4e9a-bd5a-68573ccc2669",
   "metadata": {
    "tags": []
   },
   "outputs": [
    {
     "data": {
      "text/html": [
       "<div>\n",
       "<style scoped>\n",
       "    .dataframe tbody tr th:only-of-type {\n",
       "        vertical-align: middle;\n",
       "    }\n",
       "\n",
       "    .dataframe tbody tr th {\n",
       "        vertical-align: top;\n",
       "    }\n",
       "\n",
       "    .dataframe thead th {\n",
       "        text-align: right;\n",
       "    }\n",
       "</style>\n",
       "<table border=\"1\" class=\"dataframe\">\n",
       "  <thead>\n",
       "    <tr style=\"text-align: right;\">\n",
       "      <th></th>\n",
       "      <th>Gender</th>\n",
       "      <th>Age</th>\n",
       "      <th>Occupation</th>\n",
       "      <th>City_Category</th>\n",
       "      <th>Stay_In_Current_City_Years</th>\n",
       "      <th>Marital_Status</th>\n",
       "      <th>Product_Category_1</th>\n",
       "      <th>Product_Category_2</th>\n",
       "      <th>Product_Category_3</th>\n",
       "      <th>Purchase</th>\n",
       "    </tr>\n",
       "  </thead>\n",
       "  <tbody>\n",
       "    <tr>\n",
       "      <th>0</th>\n",
       "      <td>0</td>\n",
       "      <td>0</td>\n",
       "      <td>10</td>\n",
       "      <td>0</td>\n",
       "      <td>2</td>\n",
       "      <td>0</td>\n",
       "      <td>3</td>\n",
       "      <td>8.0</td>\n",
       "      <td>16.0</td>\n",
       "      <td>8370.0</td>\n",
       "    </tr>\n",
       "    <tr>\n",
       "      <th>1</th>\n",
       "      <td>0</td>\n",
       "      <td>0</td>\n",
       "      <td>10</td>\n",
       "      <td>0</td>\n",
       "      <td>2</td>\n",
       "      <td>0</td>\n",
       "      <td>1</td>\n",
       "      <td>6.0</td>\n",
       "      <td>14.0</td>\n",
       "      <td>15200.0</td>\n",
       "    </tr>\n",
       "    <tr>\n",
       "      <th>2</th>\n",
       "      <td>0</td>\n",
       "      <td>0</td>\n",
       "      <td>10</td>\n",
       "      <td>0</td>\n",
       "      <td>2</td>\n",
       "      <td>0</td>\n",
       "      <td>12</td>\n",
       "      <td>8.0</td>\n",
       "      <td>16.0</td>\n",
       "      <td>1422.0</td>\n",
       "    </tr>\n",
       "    <tr>\n",
       "      <th>3</th>\n",
       "      <td>0</td>\n",
       "      <td>0</td>\n",
       "      <td>10</td>\n",
       "      <td>0</td>\n",
       "      <td>2</td>\n",
       "      <td>0</td>\n",
       "      <td>12</td>\n",
       "      <td>14.0</td>\n",
       "      <td>16.0</td>\n",
       "      <td>1057.0</td>\n",
       "    </tr>\n",
       "    <tr>\n",
       "      <th>4</th>\n",
       "      <td>1</td>\n",
       "      <td>6</td>\n",
       "      <td>16</td>\n",
       "      <td>2</td>\n",
       "      <td>4</td>\n",
       "      <td>0</td>\n",
       "      <td>8</td>\n",
       "      <td>8.0</td>\n",
       "      <td>16.0</td>\n",
       "      <td>7969.0</td>\n",
       "    </tr>\n",
       "  </tbody>\n",
       "</table>\n",
       "</div>"
      ],
      "text/plain": [
       "   Gender  Age  Occupation  City_Category  Stay_In_Current_City_Years  \\\n",
       "0       0    0          10              0                           2   \n",
       "1       0    0          10              0                           2   \n",
       "2       0    0          10              0                           2   \n",
       "3       0    0          10              0                           2   \n",
       "4       1    6          16              2                           4   \n",
       "\n",
       "   Marital_Status  Product_Category_1  Product_Category_2  Product_Category_3  \\\n",
       "0               0                   3                 8.0                16.0   \n",
       "1               0                   1                 6.0                14.0   \n",
       "2               0                  12                 8.0                16.0   \n",
       "3               0                  12                14.0                16.0   \n",
       "4               0                   8                 8.0                16.0   \n",
       "\n",
       "   Purchase  \n",
       "0    8370.0  \n",
       "1   15200.0  \n",
       "2    1422.0  \n",
       "3    1057.0  \n",
       "4    7969.0  "
      ]
     },
     "execution_count": 15,
     "metadata": {},
     "output_type": "execute_result"
    }
   ],
   "source": [
    "df_train.head()"
   ]
  },
  {
   "cell_type": "code",
   "execution_count": 23,
   "id": "0b54abb3-227e-4db5-bf19-976e09dfa21c",
   "metadata": {
    "tags": []
   },
   "outputs": [],
   "source": [
    "features = df_train.drop('Purchase' , axis = 1)\n",
    "label = df_train['Purchase']"
   ]
  },
  {
   "cell_type": "code",
   "execution_count": 26,
   "id": "8ab52611-ad56-4452-9e48-a8468953be7a",
   "metadata": {
    "tags": []
   },
   "outputs": [
    {
     "name": "stdout",
     "output_type": "stream",
     "text": [
      "Shape of x_train : (385047, 9)\n",
      "Shape of y_train : (385047,)\n",
      "Shape of x_test : (165021, 9)\n",
      "Shape of y_test: (165021,)\n"
     ]
    }
   ],
   "source": [
    "x_train,x_test,y_train,y_test = splitted_data(features , label)"
   ]
  },
  {
   "cell_type": "markdown",
   "id": "3df62458-82be-49b0-ab9b-77497d93d769",
   "metadata": {},
   "source": [
    "# Standard scaler"
   ]
  },
  {
   "cell_type": "code",
   "execution_count": 27,
   "id": "431b033b-5840-4ca4-9d5a-34988d374955",
   "metadata": {
    "tags": []
   },
   "outputs": [],
   "source": [
    "sc = StandardScaler() \n",
    "\n",
    "x_train_columns = x_train.columns\n",
    "x_test_columns = x_test.columns \n",
    "\n",
    "x_train[x_train_columns] = sc.fit_transform(x_train[x_train_columns])\n",
    "x_test[x_test_columns] = sc.transform(x_test[x_test_columns]) "
   ]
  },
  {
   "cell_type": "code",
   "execution_count": 28,
   "id": "802983b9-7636-4de1-b1d7-bc58b63fe802",
   "metadata": {
    "tags": []
   },
   "outputs": [
    {
     "data": {
      "text/html": [
       "<div>\n",
       "<style scoped>\n",
       "    .dataframe tbody tr th:only-of-type {\n",
       "        vertical-align: middle;\n",
       "    }\n",
       "\n",
       "    .dataframe tbody tr th {\n",
       "        vertical-align: top;\n",
       "    }\n",
       "\n",
       "    .dataframe thead th {\n",
       "        text-align: right;\n",
       "    }\n",
       "</style>\n",
       "<table border=\"1\" class=\"dataframe\">\n",
       "  <thead>\n",
       "    <tr style=\"text-align: right;\">\n",
       "      <th></th>\n",
       "      <th>Gender</th>\n",
       "      <th>Age</th>\n",
       "      <th>Occupation</th>\n",
       "      <th>City_Category</th>\n",
       "      <th>Stay_In_Current_City_Years</th>\n",
       "      <th>Marital_Status</th>\n",
       "      <th>Product_Category_1</th>\n",
       "      <th>Product_Category_2</th>\n",
       "      <th>Product_Category_3</th>\n",
       "    </tr>\n",
       "  </thead>\n",
       "  <tbody>\n",
       "    <tr>\n",
       "      <th>34556</th>\n",
       "      <td>-1.745637</td>\n",
       "      <td>-0.367120</td>\n",
       "      <td>-0.165594</td>\n",
       "      <td>-1.372295</td>\n",
       "      <td>1.660362</td>\n",
       "      <td>-0.832478</td>\n",
       "      <td>1.678119</td>\n",
       "      <td>-0.293344</td>\n",
       "      <td>0.369273</td>\n",
       "    </tr>\n",
       "    <tr>\n",
       "      <th>448699</th>\n",
       "      <td>0.572857</td>\n",
       "      <td>-1.105333</td>\n",
       "      <td>-0.625502</td>\n",
       "      <td>-1.372295</td>\n",
       "      <td>-0.666457</td>\n",
       "      <td>1.201232</td>\n",
       "      <td>-1.118493</td>\n",
       "      <td>1.336046</td>\n",
       "      <td>0.369273</td>\n",
       "    </tr>\n",
       "    <tr>\n",
       "      <th>243872</th>\n",
       "      <td>0.572857</td>\n",
       "      <td>1.847521</td>\n",
       "      <td>-0.165594</td>\n",
       "      <td>1.259071</td>\n",
       "      <td>-0.666457</td>\n",
       "      <td>1.201232</td>\n",
       "      <td>-0.101543</td>\n",
       "      <td>-0.758884</td>\n",
       "      <td>-2.548806</td>\n",
       "    </tr>\n",
       "    <tr>\n",
       "      <th>412965</th>\n",
       "      <td>0.572857</td>\n",
       "      <td>0.371094</td>\n",
       "      <td>1.827342</td>\n",
       "      <td>-1.372295</td>\n",
       "      <td>-1.442063</td>\n",
       "      <td>1.201232</td>\n",
       "      <td>0.661169</td>\n",
       "      <td>1.103276</td>\n",
       "      <td>0.369273</td>\n",
       "    </tr>\n",
       "    <tr>\n",
       "      <th>493339</th>\n",
       "      <td>0.572857</td>\n",
       "      <td>0.371094</td>\n",
       "      <td>0.447617</td>\n",
       "      <td>-0.056612</td>\n",
       "      <td>-0.666457</td>\n",
       "      <td>-0.832478</td>\n",
       "      <td>-1.118493</td>\n",
       "      <td>-0.293344</td>\n",
       "      <td>0.369273</td>\n",
       "    </tr>\n",
       "  </tbody>\n",
       "</table>\n",
       "</div>"
      ],
      "text/plain": [
       "          Gender       Age  Occupation  City_Category  \\\n",
       "34556  -1.745637 -0.367120   -0.165594      -1.372295   \n",
       "448699  0.572857 -1.105333   -0.625502      -1.372295   \n",
       "243872  0.572857  1.847521   -0.165594       1.259071   \n",
       "412965  0.572857  0.371094    1.827342      -1.372295   \n",
       "493339  0.572857  0.371094    0.447617      -0.056612   \n",
       "\n",
       "        Stay_In_Current_City_Years  Marital_Status  Product_Category_1  \\\n",
       "34556                     1.660362       -0.832478            1.678119   \n",
       "448699                   -0.666457        1.201232           -1.118493   \n",
       "243872                   -0.666457        1.201232           -0.101543   \n",
       "412965                   -1.442063        1.201232            0.661169   \n",
       "493339                   -0.666457       -0.832478           -1.118493   \n",
       "\n",
       "        Product_Category_2  Product_Category_3  \n",
       "34556            -0.293344            0.369273  \n",
       "448699            1.336046            0.369273  \n",
       "243872           -0.758884           -2.548806  \n",
       "412965            1.103276            0.369273  \n",
       "493339           -0.293344            0.369273  "
      ]
     },
     "execution_count": 28,
     "metadata": {},
     "output_type": "execute_result"
    }
   ],
   "source": [
    "x_train.head()"
   ]
  },
  {
   "cell_type": "code",
   "execution_count": 30,
   "id": "7f5d0ce3-118f-47ab-82ad-6050b4705461",
   "metadata": {
    "tags": []
   },
   "outputs": [
    {
     "data": {
      "text/plain": [
       "289514    12073.0\n",
       "169631    19585.0\n",
       "401967    10047.0\n",
       "487984    15279.0\n",
       "224051    12461.0\n",
       "           ...   \n",
       "170792    15659.0\n",
       "121904     9703.0\n",
       "176939     7001.0\n",
       "475175     9777.0\n",
       "49365      1962.0\n",
       "Name: Purchase, Length: 165021, dtype: float64"
      ]
     },
     "execution_count": 30,
     "metadata": {},
     "output_type": "execute_result"
    }
   ],
   "source": [
    "y_test"
   ]
  },
  {
   "cell_type": "markdown",
   "id": "285ed67e-52ff-4bca-bb4e-40826a8a9248",
   "metadata": {},
   "source": [
    "# Models"
   ]
  },
  {
   "cell_type": "markdown",
   "id": "a8d34b87-e113-4453-90de-f7eee4302bfe",
   "metadata": {},
   "source": [
    "## Linear Regression"
   ]
  },
  {
   "cell_type": "code",
   "execution_count": 53,
   "id": "8603da79-cd02-4a52-ba58-861f5b2e7c36",
   "metadata": {
    "tags": []
   },
   "outputs": [],
   "source": [
    "pred_dict = {}\n",
    "lr_model = LinearRegression()\n",
    "lr_model.fit(x_train , y_train)\n",
    "lr_y_pred = lr_model.predict(x_test)\n",
    "\n",
    "pred_dict['Linear_y_pred'] = lr_y_pred "
   ]
  },
  {
   "cell_type": "markdown",
   "id": "3ea18b8d-7b8a-4304-97d8-3624e659b733",
   "metadata": {},
   "source": [
    "## Lasso Regression"
   ]
  },
  {
   "cell_type": "code",
   "execution_count": 54,
   "id": "070b2276-8620-42e4-b63b-cecdddfa65db",
   "metadata": {
    "tags": []
   },
   "outputs": [],
   "source": [
    "lasso_model = Lasso()\n",
    "lasso_model.fit(x_train,y_train)\n",
    "lasso_y_pred = lasso_model.predict(x_test)\n",
    "pred_dict['Lasso_y_pred'] = lasso_y_pred"
   ]
  },
  {
   "cell_type": "markdown",
   "id": "f48aa7bd-28cb-4534-9c84-77a01b59ca77",
   "metadata": {},
   "source": [
    "## Ridge Model"
   ]
  },
  {
   "cell_type": "code",
   "execution_count": 55,
   "id": "b8c16e93-f02f-4408-99d1-485a218fc1cc",
   "metadata": {
    "tags": []
   },
   "outputs": [],
   "source": [
    "ridge_model = Ridge()\n",
    "\n",
    "ridge_model.fit(x_train,y_train)\n",
    "ridge_y_pred = ridge_model.predict(x_test)\n",
    "\n",
    "pred_dict['Ridge_y_pred'] = ridge_y_pred"
   ]
  },
  {
   "cell_type": "markdown",
   "id": "83373caa-ae1c-4a68-acfe-654b46d4a876",
   "metadata": {},
   "source": [
    "## Decision Tree Model"
   ]
  },
  {
   "cell_type": "code",
   "execution_count": 56,
   "id": "cc27dc0d-70d5-4794-a107-049930c404cc",
   "metadata": {
    "tags": []
   },
   "outputs": [],
   "source": [
    "tree_model = DecisionTreeRegressor()\n",
    "\n",
    "tree_model.fit(x_train , y_train)\n",
    "tree_y_pred = tree_model.predict(x_test)\n",
    "\n",
    "pred_dict['Tree_y_pred'] = tree_y_pred "
   ]
  },
  {
   "cell_type": "markdown",
   "id": "cabacf52-508f-4857-a911-b5c1be46ad4d",
   "metadata": {},
   "source": [
    "## Random Forest Regression"
   ]
  },
  {
   "cell_type": "code",
   "execution_count": 57,
   "id": "d61b4150-eeb6-4ef6-975c-114e1246f624",
   "metadata": {
    "tags": []
   },
   "outputs": [],
   "source": [
    "rf_regressor = RandomForestRegressor(n_estimators=100, random_state=42)  # Usa 100 alberi\n",
    "rf_regressor.fit(x_train, y_train)\n",
    "\n",
    "# Predizione sui dati di test\n",
    "y_pred_rf = rf_regressor.predict(x_test)\n",
    "pred_dict['RF_y_pred']=y_pred_rf"
   ]
  },
  {
   "cell_type": "markdown",
   "id": "96b8aa5c-e667-418a-bddf-cf544b5b8b71",
   "metadata": {},
   "source": [
    "## Gradient Boosting Machines"
   ]
  },
  {
   "cell_type": "code",
   "execution_count": 64,
   "id": "f5bf36ad-acab-410c-be35-39436a51a569",
   "metadata": {
    "tags": []
   },
   "outputs": [],
   "source": [
    "gbm_regressor = GradientBoostingRegressor(n_estimators=100, learning_rate=0.1, max_depth=3, random_state=42)\n",
    "gbm_regressor.fit(x_train, y_train)\n",
    "\n",
    "# Predizione sui dati di test\n",
    "y_pred_gbm = gbm_regressor.predict(x_test)\n",
    "pred_dict['GBM_y_pred']=y_pred_gbm"
   ]
  },
  {
   "cell_type": "markdown",
   "id": "840734ec-97ac-4f28-88af-efa6beba7f8d",
   "metadata": {},
   "source": [
    "## XGBoost"
   ]
  },
  {
   "cell_type": "code",
   "execution_count": 75,
   "id": "833ffbe1-e179-45d5-b781-ae6dc3c0ff46",
   "metadata": {
    "tags": []
   },
   "outputs": [],
   "source": [
    "dtrain = xgb.DMatrix(x_train, label=y_train)\n",
    "dtest = xgb.DMatrix(x_test, label=y_test)\n",
    "# Imposto i parametri per XGBoost\n",
    "params = {\n",
    "    'max_depth': 3,  # Profondità massima di ciascun albero\n",
    "    'eta': 0.1,      # Tasso di apprendimento\n",
    "    'objective': 'reg:squarederror',  # Obiettivo di regressione con errore quadratico\n",
    "    'eval_metric': 'rmse'  # Metrica di valutazione: Root Mean Squared Error\n",
    "}\n",
    "num_round=100\n",
    "# Addestramento del modello\n",
    "bst = xgb.train(params, dtrain, num_round)\n",
    "\n",
    "# Predizione sui dati di test\n",
    "y_pred_xgb = bst.predict(dtest)\n",
    "pred_dict['XGB_y_pred']=y_pred_xgb"
   ]
  },
  {
   "cell_type": "markdown",
   "id": "28d22431-ce65-4a43-aa64-2ec8043759e3",
   "metadata": {},
   "source": [
    "## Light Gradient Boost"
   ]
  },
  {
   "cell_type": "code",
   "execution_count": 97,
   "id": "95cd794c-65e0-4555-a413-23f4a7aa3587",
   "metadata": {
    "tags": []
   },
   "outputs": [],
   "source": [
    "# Creazione del dataset di LightGBM\n",
    "lgb_train = lgb.Dataset(x_train, y_train)\n",
    "lgb_test = lgb.Dataset(x_test, y_test, reference=lgb_train)\n",
    "\n",
    "# Imposta i parametri per LightGBM\n",
    "params = {\n",
    "    'boosting_type': 'gbdt',  # Tipo di algoritmo di boosting (Gradient Boosting Decision Tree)\n",
    "    'objective': 'regression',  # Obiettivo di regressione\n",
    "    'metric': {'l2', 'l1'},  # Utilizza MSE (l2) e MAE (l1) come metriche\n",
    "    'num_leaves': 31,  # Numero di foglie in un albero\n",
    "    'learning_rate': 0.05,  # Tasso di apprendimento\n",
    "    'feature_fraction': 0.9,  # Percentuale di feature da considerare ad ogni albero\n",
    "    'bagging_fraction': 0.8,  # Percentuale di dati da usare per ogni albero\n",
    "    'bagging_freq': 5,  # Frequenza di bagging\n",
    "    'verbose': 0  # Meno messaggi di verbose\n",
    "}\n",
    "\n",
    "# Numero di round di boosting\n",
    "num_round = 100\n",
    "# Addestramento del modello\n",
    "gbm = lgb.train(params, lgb_train, num_boost_round=num_round, valid_sets=lgb_test)\n",
    "\n",
    "# Predizione sui dati di test\n",
    "y_pred_lgbm = gbm.predict(x_test, num_iteration=gbm.best_iteration)\n",
    "pred_dict['LGB_y_pred']=y_pred_lgbm"
   ]
  },
  {
   "cell_type": "markdown",
   "id": "49f0e657-bec4-4d28-b9de-1b4cb8d98e09",
   "metadata": {},
   "source": [
    "## CatBoost"
   ]
  },
  {
   "cell_type": "code",
   "execution_count": 112,
   "id": "f2ee82de-dfe4-4fbd-b496-0a0e8fb88e4b",
   "metadata": {
    "tags": []
   },
   "outputs": [
    {
     "name": "stdout",
     "output_type": "stream",
     "text": [
      "0:\tlearn: 4998.9103391\ttest: 5009.6229234\tbest: 5009.6229234 (0)\ttotal: 29.3ms\tremaining: 2.9s\n",
      "10:\tlearn: 4809.7033434\ttest: 4820.9134925\tbest: 4820.9134925 (10)\ttotal: 272ms\tremaining: 2.2s\n",
      "20:\tlearn: 4646.5190282\ttest: 4658.1005149\tbest: 4658.1005149 (20)\ttotal: 491ms\tremaining: 1.85s\n",
      "30:\tlearn: 4506.5774290\ttest: 4518.4438817\tbest: 4518.4438817 (30)\ttotal: 717ms\tremaining: 1.59s\n",
      "40:\tlearn: 4385.3134462\ttest: 4397.2992221\tbest: 4397.2992221 (40)\ttotal: 933ms\tremaining: 1.34s\n",
      "50:\tlearn: 4276.7686074\ttest: 4288.8750536\tbest: 4288.8750536 (50)\ttotal: 1.15s\tremaining: 1.11s\n",
      "60:\tlearn: 4182.1571256\ttest: 4194.4036940\tbest: 4194.4036940 (60)\ttotal: 1.37s\tremaining: 878ms\n",
      "70:\tlearn: 4103.4726825\ttest: 4115.8299160\tbest: 4115.8299160 (70)\ttotal: 1.59s\tremaining: 652ms\n",
      "80:\tlearn: 4036.2166710\ttest: 4048.6676156\tbest: 4048.6676156 (80)\ttotal: 1.82s\tremaining: 427ms\n",
      "90:\tlearn: 3974.5684416\ttest: 3986.9831244\tbest: 3986.9831244 (90)\ttotal: 2.04s\tremaining: 201ms\n",
      "99:\tlearn: 3924.4131355\ttest: 3936.8484361\tbest: 3936.8484361 (99)\ttotal: 2.23s\tremaining: 0us\n",
      "\n",
      "bestTest = 3936.848436\n",
      "bestIteration = 99\n",
      "\n"
     ]
    }
   ],
   "source": [
    "cb_regressor = CatBoostRegressor(\n",
    "    iterations=100,\n",
    "    learning_rate=0.01,\n",
    "    depth=3,\n",
    "    loss_function='RMSE',\n",
    "    verbose=10,  # Stampa l'output ogni 10 iterazioni\n",
    "    random_seed=42\n",
    ")\n",
    "\n",
    "# Addestramento del modello\n",
    "cb_regressor.fit(x_train, y_train, eval_set=(x_test, y_test), use_best_model=True)\n",
    "\n",
    "# Predizione sui dati di test\n",
    "y_pred_cb = cb_regressor.predict(x_test)\n",
    "pred_dict['CB_y_pred']=y_pred_cb"
   ]
  },
  {
   "cell_type": "code",
   "execution_count": 113,
   "id": "7dc0181d-fd02-440c-a8c3-563116aaf24b",
   "metadata": {
    "tags": []
   },
   "outputs": [],
   "source": [
    "del pred_dict['Original_y_test']"
   ]
  },
  {
   "cell_type": "code",
   "execution_count": 114,
   "id": "c198b4f7-4eab-4615-80bd-8bccac24ae11",
   "metadata": {
    "tags": []
   },
   "outputs": [],
   "source": [
    "del res_df"
   ]
  },
  {
   "cell_type": "code",
   "execution_count": 115,
   "id": "bbfbe99c-9aae-448d-8e41-6909d569d8de",
   "metadata": {
    "tags": []
   },
   "outputs": [],
   "source": [
    "pred_dict['Original_y_test'] = y_test "
   ]
  },
  {
   "cell_type": "code",
   "execution_count": 116,
   "id": "7ff2c106-97ff-4767-b88c-219598397741",
   "metadata": {
    "tags": []
   },
   "outputs": [
    {
     "data": {
      "text/html": [
       "<div>\n",
       "<style scoped>\n",
       "    .dataframe tbody tr th:only-of-type {\n",
       "        vertical-align: middle;\n",
       "    }\n",
       "\n",
       "    .dataframe tbody tr th {\n",
       "        vertical-align: top;\n",
       "    }\n",
       "\n",
       "    .dataframe thead th {\n",
       "        text-align: right;\n",
       "    }\n",
       "</style>\n",
       "<table border=\"1\" class=\"dataframe\">\n",
       "  <thead>\n",
       "    <tr style=\"text-align: right;\">\n",
       "      <th></th>\n",
       "      <th>Linear_y_pred</th>\n",
       "      <th>Lasso_y_pred</th>\n",
       "      <th>Ridge_y_pred</th>\n",
       "      <th>Tree_y_pred</th>\n",
       "      <th>RF_y_pred</th>\n",
       "      <th>GBM_y_pred</th>\n",
       "      <th>XGB_y_pred</th>\n",
       "      <th>LGB_y_pred</th>\n",
       "      <th>CB_y_pred</th>\n",
       "      <th>Original_y_test</th>\n",
       "    </tr>\n",
       "  </thead>\n",
       "  <tbody>\n",
       "    <tr>\n",
       "      <th>289514</th>\n",
       "      <td>12570.513749</td>\n",
       "      <td>12569.372176</td>\n",
       "      <td>12570.510162</td>\n",
       "      <td>15070.428571</td>\n",
       "      <td>15441.868329</td>\n",
       "      <td>13395.225432</td>\n",
       "      <td>13404.094727</td>\n",
       "      <td>13516.914786</td>\n",
       "      <td>11840.185798</td>\n",
       "      <td>12073.0</td>\n",
       "    </tr>\n",
       "    <tr>\n",
       "      <th>169631</th>\n",
       "      <td>10917.673015</td>\n",
       "      <td>10917.637472</td>\n",
       "      <td>10917.666584</td>\n",
       "      <td>14481.857143</td>\n",
       "      <td>14812.887551</td>\n",
       "      <td>13136.063932</td>\n",
       "      <td>13126.774414</td>\n",
       "      <td>13099.556975</td>\n",
       "      <td>11840.185798</td>\n",
       "      <td>19585.0</td>\n",
       "    </tr>\n",
       "    <tr>\n",
       "      <th>401967</th>\n",
       "      <td>8554.483453</td>\n",
       "      <td>8552.538738</td>\n",
       "      <td>8554.483280</td>\n",
       "      <td>9793.000000</td>\n",
       "      <td>8649.687885</td>\n",
       "      <td>7789.989294</td>\n",
       "      <td>7886.058594</td>\n",
       "      <td>8038.430365</td>\n",
       "      <td>8161.565730</td>\n",
       "      <td>10047.0</td>\n",
       "    </tr>\n",
       "    <tr>\n",
       "      <th>487984</th>\n",
       "      <td>10432.041721</td>\n",
       "      <td>10431.863793</td>\n",
       "      <td>10432.037195</td>\n",
       "      <td>15827.000000</td>\n",
       "      <td>15422.878286</td>\n",
       "      <td>13116.150887</td>\n",
       "      <td>13142.212891</td>\n",
       "      <td>13161.014982</td>\n",
       "      <td>11840.185798</td>\n",
       "      <td>15279.0</td>\n",
       "    </tr>\n",
       "    <tr>\n",
       "      <th>224051</th>\n",
       "      <td>9269.292523</td>\n",
       "      <td>9268.057303</td>\n",
       "      <td>9269.292841</td>\n",
       "      <td>16386.666667</td>\n",
       "      <td>16605.236405</td>\n",
       "      <td>15517.710633</td>\n",
       "      <td>15495.346680</td>\n",
       "      <td>15881.764436</td>\n",
       "      <td>11609.596173</td>\n",
       "      <td>12461.0</td>\n",
       "    </tr>\n",
       "  </tbody>\n",
       "</table>\n",
       "</div>"
      ],
      "text/plain": [
       "        Linear_y_pred  Lasso_y_pred  Ridge_y_pred   Tree_y_pred     RF_y_pred  \\\n",
       "289514   12570.513749  12569.372176  12570.510162  15070.428571  15441.868329   \n",
       "169631   10917.673015  10917.637472  10917.666584  14481.857143  14812.887551   \n",
       "401967    8554.483453   8552.538738   8554.483280   9793.000000   8649.687885   \n",
       "487984   10432.041721  10431.863793  10432.037195  15827.000000  15422.878286   \n",
       "224051    9269.292523   9268.057303   9269.292841  16386.666667  16605.236405   \n",
       "\n",
       "          GBM_y_pred    XGB_y_pred    LGB_y_pred     CB_y_pred  \\\n",
       "289514  13395.225432  13404.094727  13516.914786  11840.185798   \n",
       "169631  13136.063932  13126.774414  13099.556975  11840.185798   \n",
       "401967   7789.989294   7886.058594   8038.430365   8161.565730   \n",
       "487984  13116.150887  13142.212891  13161.014982  11840.185798   \n",
       "224051  15517.710633  15495.346680  15881.764436  11609.596173   \n",
       "\n",
       "        Original_y_test  \n",
       "289514          12073.0  \n",
       "169631          19585.0  \n",
       "401967          10047.0  \n",
       "487984          15279.0  \n",
       "224051          12461.0  "
      ]
     },
     "execution_count": 116,
     "metadata": {},
     "output_type": "execute_result"
    }
   ],
   "source": [
    "res_df = pd.DataFrame(pred_dict)\n",
    "\n",
    "res_df.head()"
   ]
  },
  {
   "cell_type": "code",
   "execution_count": 117,
   "id": "fdf94da1-706c-4de6-92d8-8dbba1a97cc5",
   "metadata": {
    "tags": []
   },
   "outputs": [],
   "source": [
    "res_df.to_csv('data/res/Model_predictions.csv' , index = False)"
   ]
  },
  {
   "cell_type": "markdown",
   "id": "1d4ef664-bc6e-44c5-bf31-64bba816e80c",
   "metadata": {},
   "source": [
    "# Model Comparison"
   ]
  },
  {
   "cell_type": "code",
   "execution_count": 118,
   "id": "094c0311-26fc-4283-808f-a5f8f188c96c",
   "metadata": {
    "tags": []
   },
   "outputs": [
    {
     "name": "stdout",
     "output_type": "stream",
     "text": [
      "Metrics for Linear Regression:\n",
      "  MSE: 22025697.84\n",
      "  RMSE: 4693.15\n",
      "  MAE: 3588.87\n",
      "  R²: 0.130\n",
      "Metrics for Lasso Regression:\n",
      "  MSE: 22025601.63\n",
      "  RMSE: 4693.14\n",
      "  MAE: 3588.96\n",
      "  R²: 0.130\n",
      "Metrics for Ridge Regression:\n",
      "  MSE: 22025697.77\n",
      "  RMSE: 4693.15\n",
      "  MAE: 3588.87\n",
      "  R²: 0.130\n",
      "Metrics for Decision Tree Regression:\n",
      "  MSE: 10997810.54\n",
      "  RMSE: 3316.29\n",
      "  MAE: 2354.04\n",
      "  R²: 0.565\n",
      "Metrics for Random Forest Regression:\n",
      "  MSE: 9280139.74\n",
      "  RMSE: 3046.33\n",
      "  MAE: 2222.35\n",
      "  R²: 0.633\n",
      "Metrics for Gradient Boosting Regression:\n",
      "  MSE: 8920188.12\n",
      "  RMSE: 2986.67\n",
      "  MAE: 2266.76\n",
      "  R²: 0.648\n",
      "Metrics for XG Boosting Regression:\n",
      "  MSE: 8916563.20\n",
      "  RMSE: 2986.06\n",
      "  MAE: 2266.41\n",
      "  R²: 0.648\n",
      "Metrics for Light Gradient Boosting Regression:\n",
      "  MSE: 8673220.87\n",
      "  RMSE: 2945.03\n",
      "  MAE: 2223.28\n",
      "  R²: 0.657\n",
      "Metrics for CatBoosting Regression:\n",
      "  MSE: 15498775.61\n",
      "  RMSE: 3936.85\n",
      "  MAE: 2970.23\n",
      "  R²: 0.388\n"
     ]
    }
   ],
   "source": [
    "from sklearn.metrics import mean_squared_error, mean_absolute_error, r2_score\n",
    "import numpy as np\n",
    "\n",
    "def regression_metrics(y_test, y_pred, model_name='Model'):\n",
    "    mse = mean_squared_error(y_test, y_pred)\n",
    "    rmse = np.sqrt(mse)\n",
    "    mae = mean_absolute_error(y_test, y_pred)\n",
    "    r2 = r2_score(y_test, y_pred)*100\n",
    "    \n",
    "    metrics = {\n",
    "        'MSE': mse,\n",
    "        'RMSE': rmse,\n",
    "        'MAE': mae,\n",
    "        'R2 (%)': r2\n",
    "    }\n",
    "    \n",
    "    print(f\"Metrics for {model_name}:\")\n",
    "    print(f\"  MSE: {mse:.2f}\")\n",
    "    print(f\"  RMSE: {rmse:.2f}\")\n",
    "    print(f\"  MAE: {mae:.2f}\")\n",
    "    print(f\"  R²: {r2:.3f}%\")\n",
    "    \n",
    "    return metrics\n",
    "\n",
    "# Esempio di utilizzo\n",
    "# Assumendo che y_test sia definito e pred_dict contenga le predizioni per vari modelli\n",
    "metrics_linear = regression_metrics(y_test, pred_dict['Linear_y_pred'], 'Linear Regression')\n",
    "metrics_lasso = regression_metrics(y_test, pred_dict['Lasso_y_pred'], 'Lasso Regression')\n",
    "metrics_ridge = regression_metrics(y_test, pred_dict['Ridge_y_pred'], 'Ridge Regression')\n",
    "metrics_tree = regression_metrics(y_test, pred_dict['Tree_y_pred'], 'Decision Tree Regression')\n",
    "metrics_rf = regression_metrics(y_test, pred_dict['RF_y_pred'], 'Random Forest Regression')\n",
    "metrics_gbm = regression_metrics(y_test, pred_dict['GBM_y_pred'], 'Gradient Boosting Regression')\n",
    "metrics_xgb = regression_metrics(y_test, pred_dict['XGB_y_pred'], 'XG Boosting Regression')\n",
    "metrics_lgb = regression_metrics(y_test, pred_dict['LGB_y_pred'], 'Light Gradient Boosting Regression')\n",
    "metrics_cb = regression_metrics(y_test, pred_dict['CB_y_pred'], 'CatBoosting Regression')\n"
   ]
  },
  {
   "cell_type": "markdown",
   "id": "8863c122-5703-4373-bbdf-2b0311e18d99",
   "metadata": {},
   "source": [
    "The output  shows very similar results in terms of **MSE** (Mean Squared Error), **RMSE** (Root Mean Squared Error), **MAE** (Mean Absolute Error), and **R²** (coefficient of determination)."
   ]
  },
  {
   "cell_type": "markdown",
   "id": "5b5ca8a9-6d6d-48a8-b591-b14aacea756b",
   "metadata": {
    "tags": []
   },
   "source": [
    "The regularisation introduced by **Lasso** and **Ridge** does not lead to significant improvements over standard linear regression. The relatively low R² (0.13) for these models indicates that only a small part of the variance is explained by the models."
   ]
  },
  {
   "cell_type": "markdown",
   "id": "562881c0-a8a5-4c8e-ac8f-3fa54f7d12f5",
   "metadata": {},
   "source": [
    "**Decision Tree Regression** performs significantly better than the linear models, with lower MSE and RMSE values and a better MAE. More importantly, the value of R² is much higher (0.56), indicating that this model is able to explain a larger portion of the variance in the test data. This could suggest that the dataset has a non-linear structure or relationships that the decision tree model is able to capture better than linear models."
   ]
  },
  {
   "cell_type": "markdown",
   "id": "84ca1bf5-49eb-4174-8112-c6bf25b5429a",
   "metadata": {},
   "source": [
    "**Random Forest Regressor** outperformed all other models tested. This is consistent with expectations, as decision tree-based models and, in particular, ensembles such as Random Forest tend to be more flexible and powerful, capturing complexities and non-linear relationships in the data better than linear models."
   ]
  },
  {
   "cell_type": "markdown",
   "id": "57e0842e-ab8f-472f-b38c-9cb596fa4e63",
   "metadata": {},
   "source": [
    "From the results obtained for the **Gradient Boosting Regression**, we can see that this model outperformed the Random Forest and all other previously tested models in terms of all key metrics. With an R² value of 0.65, this model shows a superior ability to explain variance in the test data compared to the other models, indicating a good fit and prediction of performance on the data."
   ]
  },
  {
   "cell_type": "markdown",
   "id": "cad40c33-e239-4722-86e3-1ca121788d48",
   "metadata": {},
   "source": [
    "The results obtained for the **XGBoost Regression** show very similar performance to the Gradient Boosting Regression. This indicates that XGBoost, like Gradient Boosting, is very effective in capturing complex relationships and non-linear dynamics in the data, offering accurate predictions and a high degree of variance explanation in the test data."
   ]
  },
  {
   "cell_type": "markdown",
   "id": "274ba98c-454b-46cb-8981-373a39311afe",
   "metadata": {},
   "source": [
    "The results for **Light Gradient Boosting Regression** show a further improvement over the other models tested previously. LightGBM proved to be particularly effective in handling large datasets while maintaining a high training speed without compromising model quality. This is due to its gradient-based tree construction strategy and its efficient handling of categorical features."
   ]
  },
  {
   "cell_type": "markdown",
   "id": "41fda52f-b813-4729-9578-310e5c7b9e09",
   "metadata": {},
   "source": [
    "**CatBoost** has a significantly higher MSE and RMSE than the Gradient Boosting, XGBoost and LightGBM models, but better than the linear models (Linear, Lasso, Ridge Regression). This indicates that although CatBoost has not reached the peak performance of some tree-based models, it still outperforms the linear models in terms of mean square error."
   ]
  },
  {
   "cell_type": "code",
   "execution_count": null,
   "id": "871e2d82-0e25-482e-9396-136f5bb7381b",
   "metadata": {},
   "outputs": [],
   "source": []
  }
 ],
 "metadata": {
  "environment": {
   "kernel": "python3",
   "name": "common-cpu.m116",
   "type": "gcloud",
   "uri": "gcr.io/deeplearning-platform-release/base-cpu:m116"
  },
  "kernelspec": {
   "display_name": "Python 3 (Local)",
   "language": "python",
   "name": "python3"
  },
  "language_info": {
   "codemirror_mode": {
    "name": "ipython",
    "version": 3
   },
   "file_extension": ".py",
   "mimetype": "text/x-python",
   "name": "python",
   "nbconvert_exporter": "python",
   "pygments_lexer": "ipython3",
   "version": "3.10.13"
  }
 },
 "nbformat": 4,
 "nbformat_minor": 5
}
