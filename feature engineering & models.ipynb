{
 "cells": [
  {
   "cell_type": "markdown",
   "id": "b982b9c2-ed82-448b-9058-179e4c127f68",
   "metadata": {},
   "source": [
    "# Modules"
   ]
  },
  {
   "cell_type": "code",
   "execution_count": null,
   "id": "b93a095c-f1b6-4f81-9d74-b587907f1035",
   "metadata": {
    "tags": []
   },
   "outputs": [],
   "source": [
    "# pip install catboost\n"
   ]
  },
  {
   "cell_type": "code",
   "execution_count": 2,
   "id": "b2b89bfa-a561-4c6e-b587-6fd270268d8d",
   "metadata": {},
   "outputs": [],
   "source": [
    "import pandas as pd \n",
    "import numpy as np \n",
    "import matplotlib.pyplot as plt \n",
    "import seaborn as sns \n",
    "\n",
    "from sklearn.model_selection import train_test_split\n",
    "from sklearn.preprocessing import StandardScaler \n",
    "from sklearn.linear_model import LinearRegression \n",
    "from sklearn.linear_model import Lasso \n",
    "from sklearn.linear_model import Ridge \n",
    "from sklearn.svm import SVR \n",
    "from sklearn.tree import DecisionTreeRegressor \n",
    "from sklearn.metrics import mean_squared_error \n",
    "from sklearn.metrics import make_scorer \n",
    "from sklearn.model_selection import GridSearchCV \n",
    "from sklearn.ensemble import RandomForestRegressor\n",
    "from sklearn.ensemble import GradientBoostingRegressor\n",
    "import xgboost as xgb\n",
    "import lightgbm as lgb\n",
    "from catboost import CatBoostRegressor\n",
    "\n",
    "#For Warnings\n",
    "import warnings\n",
    "warnings.filterwarnings('ignore') "
   ]
  },
  {
   "cell_type": "code",
   "execution_count": 3,
   "id": "679b0769-8d02-48fe-85ee-0b0b77d3bb49",
   "metadata": {
    "tags": []
   },
   "outputs": [],
   "source": [
    "df_train=pd.read_csv(\"data/train.csv\")\n",
    "df_test=pd.read_csv(\"data/test.csv\")"
   ]
  },
  {
   "cell_type": "code",
   "execution_count": 4,
   "id": "34d3f099-8c2d-4fb5-9b25-73bebe5f1556",
   "metadata": {
    "tags": []
   },
   "outputs": [
    {
     "name": "stdout",
     "output_type": "stream",
     "text": [
      "<class 'pandas.core.frame.DataFrame'>\n",
      "RangeIndex: 783667 entries, 0 to 783666\n",
      "Data columns (total 12 columns):\n",
      " #   Column                      Non-Null Count   Dtype  \n",
      "---  ------                      --------------   -----  \n",
      " 0   User_ID                     783667 non-null  int64  \n",
      " 1   Product_ID                  783667 non-null  object \n",
      " 2   Gender                      783667 non-null  object \n",
      " 3   Age                         783667 non-null  object \n",
      " 4   Occupation                  783667 non-null  int64  \n",
      " 5   City_Category               783667 non-null  object \n",
      " 6   Stay_In_Current_City_Years  783667 non-null  object \n",
      " 7   Marital_Status              783667 non-null  int64  \n",
      " 8   Product_Category_1          783667 non-null  int64  \n",
      " 9   Product_Category_2          537685 non-null  float64\n",
      " 10  Product_Category_3          237858 non-null  float64\n",
      " 11  Purchase                    550068 non-null  float64\n",
      "dtypes: float64(3), int64(4), object(5)\n",
      "memory usage: 71.7+ MB\n"
     ]
    }
   ],
   "source": [
    "df=pd.concat([df_train, df_test], ignore_index=True)\n",
    "df.info()"
   ]
  },
  {
   "cell_type": "code",
   "execution_count": 4,
   "id": "34a25d8a-2652-40b0-ab5f-0c7ed7d0f81c",
   "metadata": {
    "tags": []
   },
   "outputs": [],
   "source": [
    "df = df.drop(['User_ID','Product_ID'] , axis = 1)"
   ]
  },
  {
   "cell_type": "code",
   "execution_count": 5,
   "id": "419849bc-137d-4283-a6aa-fea21af1c1a4",
   "metadata": {
    "tags": []
   },
   "outputs": [
    {
     "name": "stdout",
     "output_type": "stream",
     "text": [
      "Total number of duplicated rows in data are: 147232\n"
     ]
    }
   ],
   "source": [
    "print(f\"Total number of duplicated rows in data are: {df.duplicated().sum()}\") "
   ]
  },
  {
   "cell_type": "code",
   "execution_count": 6,
   "id": "944ce5bf-4880-4762-9278-02ddbe8f1831",
   "metadata": {
    "tags": []
   },
   "outputs": [
    {
     "name": "stdout",
     "output_type": "stream",
     "text": [
      "Categorical Columns are : Index(['Gender', 'Age', 'City_Category', 'Stay_In_Current_City_Years'], dtype='object')\n"
     ]
    }
   ],
   "source": [
    "def cat_cols(df) : \n",
    "    o = (df.dtypes == 'object')\n",
    "    object_cols = o[o].index \n",
    "    return object_cols\n",
    "\n",
    "object_cols = cat_cols(df)\n",
    "print(f\"Categorical Columns are : {object_cols}\")"
   ]
  },
  {
   "cell_type": "markdown",
   "id": "1beffdf6-f185-4e7b-a0ac-8861042fb130",
   "metadata": {},
   "source": [
    "# Features Engineering"
   ]
  },
  {
   "cell_type": "markdown",
   "id": "4f7e84a7-ef9c-4507-beb3-a60237cdcefa",
   "metadata": {},
   "source": [
    "## utils "
   ]
  },
  {
   "cell_type": "code",
   "execution_count": 9,
   "id": "2fe10735-25c5-4716-a055-69ab1c3d7ca1",
   "metadata": {
    "tags": []
   },
   "outputs": [],
   "source": [
    "def missing_vals(df): \n",
    "    for i in df :\n",
    "        if df[i].isnull().sum() > 0 : \n",
    "            print(f\"{i} : {df[i].isnull().sum()} missing values out of {len(df[i])}\")\n",
    "    else : \n",
    "        print(\"No missing columns.\")\n",
    "        \n",
    "def splitted_data(features , label) : \n",
    "    x_train,x_test,y_train,y_test = train_test_split(features, label , test_size = 0.3)\n",
    "    \n",
    "    print(f\"Shape of x_train : {x_train.shape}\")\n",
    "    print(f\"Shape of y_train : {y_train.shape}\")\n",
    "    print(f\"Shape of x_test : {x_test.shape}\")\n",
    "    print(f\"Shape of y_test: {y_test.shape}\")\n",
    "    return x_train,x_test,y_train,y_test"
   ]
  },
  {
   "cell_type": "code",
   "execution_count": 8,
   "id": "11b3f944-7ac0-4c09-bce9-59434db417f6",
   "metadata": {
    "tags": []
   },
   "outputs": [],
   "source": [
    "age_mapping = {'0-17': 0, '18-25': 1, '26-35': 2, '36-45': 3, '46-50': 4, '51-55': 5, '55+': 6}\n",
    "df['Age'] = df['Age'].map(age_mapping)\n"
   ]
  },
  {
   "cell_type": "code",
   "execution_count": 10,
   "id": "eb8a3bf4-0a74-4fe2-90cc-c1f5fe037fb8",
   "metadata": {
    "tags": []
   },
   "outputs": [],
   "source": [
    "df['Gender'] = df['Gender'].map({'M' : 1 , 'F' : 0})"
   ]
  },
  {
   "cell_type": "code",
   "execution_count": 11,
   "id": "e56067ad-feb7-421e-9a54-56c308ec0a60",
   "metadata": {
    "tags": []
   },
   "outputs": [],
   "source": [
    "df['City_Category'] = df['City_Category'].map({'A' : 0 , 'B' : 1, 'C':2})"
   ]
  },
  {
   "cell_type": "code",
   "execution_count": 12,
   "id": "3d63ffd0-636d-471a-ae82-b2abc7fa1bca",
   "metadata": {
    "tags": []
   },
   "outputs": [],
   "source": [
    "df['Stay_In_Current_City_Years'] = df['Stay_In_Current_City_Years'].map({ '2' : 2 , '4+' : 4 , '3' : 3, '1' : 1, '0' : 0})\n"
   ]
  },
  {
   "cell_type": "code",
   "execution_count": 13,
   "id": "92004cd4-241d-4b31-b53e-d080aae217ac",
   "metadata": {
    "tags": []
   },
   "outputs": [
    {
     "name": "stdout",
     "output_type": "stream",
     "text": [
      "Product_Category_2 : 245982 missing values out of 783667\n",
      "Product_Category_3 : 545809 missing values out of 783667\n",
      "Purchase : 233599 missing values out of 783667\n",
      "No missing columns.\n"
     ]
    }
   ],
   "source": [
    "missing_vals(df)"
   ]
  },
  {
   "cell_type": "code",
   "execution_count": 14,
   "id": "5b734a29-7cbd-4f41-b465-fc4ec0d33d8d",
   "metadata": {
    "tags": []
   },
   "outputs": [],
   "source": [
    "df['Product_Category_2'] = df['Product_Category_2'].fillna(df['Product_Category_2'].mode()[0] )\n",
    "df['Product_Category_3'] = df['Product_Category_3'].fillna(df['Product_Category_3'].mode()[0] )\n"
   ]
  },
  {
   "cell_type": "code",
   "execution_count": 15,
   "id": "8c92fb5d-fac9-4ed6-872b-fa35f909020a",
   "metadata": {
    "tags": []
   },
   "outputs": [],
   "source": [
    "df_test = [df['Purchase'].isnull()]\n",
    "df_train = df[~df['Purchase'].isnull()]"
   ]
  },
  {
   "cell_type": "code",
   "execution_count": 16,
   "id": "8edd9293-c6f2-4e9a-bd5a-68573ccc2669",
   "metadata": {
    "tags": []
   },
   "outputs": [
    {
     "data": {
      "text/html": [
       "<div>\n",
       "<style scoped>\n",
       "    .dataframe tbody tr th:only-of-type {\n",
       "        vertical-align: middle;\n",
       "    }\n",
       "\n",
       "    .dataframe tbody tr th {\n",
       "        vertical-align: top;\n",
       "    }\n",
       "\n",
       "    .dataframe thead th {\n",
       "        text-align: right;\n",
       "    }\n",
       "</style>\n",
       "<table border=\"1\" class=\"dataframe\">\n",
       "  <thead>\n",
       "    <tr style=\"text-align: right;\">\n",
       "      <th></th>\n",
       "      <th>Gender</th>\n",
       "      <th>Age</th>\n",
       "      <th>Occupation</th>\n",
       "      <th>City_Category</th>\n",
       "      <th>Stay_In_Current_City_Years</th>\n",
       "      <th>Marital_Status</th>\n",
       "      <th>Product_Category_1</th>\n",
       "      <th>Product_Category_2</th>\n",
       "      <th>Product_Category_3</th>\n",
       "      <th>Purchase</th>\n",
       "    </tr>\n",
       "  </thead>\n",
       "  <tbody>\n",
       "    <tr>\n",
       "      <th>0</th>\n",
       "      <td>0</td>\n",
       "      <td>0</td>\n",
       "      <td>10</td>\n",
       "      <td>0</td>\n",
       "      <td>2</td>\n",
       "      <td>0</td>\n",
       "      <td>3</td>\n",
       "      <td>8.0</td>\n",
       "      <td>16.0</td>\n",
       "      <td>8370.0</td>\n",
       "    </tr>\n",
       "    <tr>\n",
       "      <th>1</th>\n",
       "      <td>0</td>\n",
       "      <td>0</td>\n",
       "      <td>10</td>\n",
       "      <td>0</td>\n",
       "      <td>2</td>\n",
       "      <td>0</td>\n",
       "      <td>1</td>\n",
       "      <td>6.0</td>\n",
       "      <td>14.0</td>\n",
       "      <td>15200.0</td>\n",
       "    </tr>\n",
       "    <tr>\n",
       "      <th>2</th>\n",
       "      <td>0</td>\n",
       "      <td>0</td>\n",
       "      <td>10</td>\n",
       "      <td>0</td>\n",
       "      <td>2</td>\n",
       "      <td>0</td>\n",
       "      <td>12</td>\n",
       "      <td>8.0</td>\n",
       "      <td>16.0</td>\n",
       "      <td>1422.0</td>\n",
       "    </tr>\n",
       "    <tr>\n",
       "      <th>3</th>\n",
       "      <td>0</td>\n",
       "      <td>0</td>\n",
       "      <td>10</td>\n",
       "      <td>0</td>\n",
       "      <td>2</td>\n",
       "      <td>0</td>\n",
       "      <td>12</td>\n",
       "      <td>14.0</td>\n",
       "      <td>16.0</td>\n",
       "      <td>1057.0</td>\n",
       "    </tr>\n",
       "    <tr>\n",
       "      <th>4</th>\n",
       "      <td>1</td>\n",
       "      <td>6</td>\n",
       "      <td>16</td>\n",
       "      <td>2</td>\n",
       "      <td>4</td>\n",
       "      <td>0</td>\n",
       "      <td>8</td>\n",
       "      <td>8.0</td>\n",
       "      <td>16.0</td>\n",
       "      <td>7969.0</td>\n",
       "    </tr>\n",
       "  </tbody>\n",
       "</table>\n",
       "</div>"
      ],
      "text/plain": [
       "   Gender  Age  Occupation  City_Category  Stay_In_Current_City_Years  \\\n",
       "0       0    0          10              0                           2   \n",
       "1       0    0          10              0                           2   \n",
       "2       0    0          10              0                           2   \n",
       "3       0    0          10              0                           2   \n",
       "4       1    6          16              2                           4   \n",
       "\n",
       "   Marital_Status  Product_Category_1  Product_Category_2  Product_Category_3  \\\n",
       "0               0                   3                 8.0                16.0   \n",
       "1               0                   1                 6.0                14.0   \n",
       "2               0                  12                 8.0                16.0   \n",
       "3               0                  12                14.0                16.0   \n",
       "4               0                   8                 8.0                16.0   \n",
       "\n",
       "   Purchase  \n",
       "0    8370.0  \n",
       "1   15200.0  \n",
       "2    1422.0  \n",
       "3    1057.0  \n",
       "4    7969.0  "
      ]
     },
     "execution_count": 16,
     "metadata": {},
     "output_type": "execute_result"
    }
   ],
   "source": [
    "df_train.head()"
   ]
  },
  {
   "cell_type": "code",
   "execution_count": 17,
   "id": "0b54abb3-227e-4db5-bf19-976e09dfa21c",
   "metadata": {
    "tags": []
   },
   "outputs": [],
   "source": [
    "features = df_train.drop('Purchase' , axis = 1)\n",
    "label = df_train['Purchase']"
   ]
  },
  {
   "cell_type": "code",
   "execution_count": 18,
   "id": "8ab52611-ad56-4452-9e48-a8468953be7a",
   "metadata": {
    "tags": []
   },
   "outputs": [
    {
     "name": "stdout",
     "output_type": "stream",
     "text": [
      "Shape of x_train : (385047, 9)\n",
      "Shape of y_train : (385047,)\n",
      "Shape of x_test : (165021, 9)\n",
      "Shape of y_test: (165021,)\n"
     ]
    }
   ],
   "source": [
    "x_train,x_test,y_train,y_test = splitted_data(features , label)"
   ]
  },
  {
   "cell_type": "markdown",
   "id": "3df62458-82be-49b0-ab9b-77497d93d769",
   "metadata": {},
   "source": [
    "# Standard scaler"
   ]
  },
  {
   "cell_type": "code",
   "execution_count": 19,
   "id": "431b033b-5840-4ca4-9d5a-34988d374955",
   "metadata": {
    "tags": []
   },
   "outputs": [],
   "source": [
    "sc = StandardScaler() \n",
    "\n",
    "x_train_columns = x_train.columns\n",
    "x_test_columns = x_test.columns \n",
    "\n",
    "x_train[x_train_columns] = sc.fit_transform(x_train[x_train_columns])\n",
    "x_test[x_test_columns] = sc.transform(x_test[x_test_columns]) "
   ]
  },
  {
   "cell_type": "code",
   "execution_count": 20,
   "id": "802983b9-7636-4de1-b1d7-bc58b63fe802",
   "metadata": {
    "tags": []
   },
   "outputs": [
    {
     "data": {
      "text/html": [
       "<div>\n",
       "<style scoped>\n",
       "    .dataframe tbody tr th:only-of-type {\n",
       "        vertical-align: middle;\n",
       "    }\n",
       "\n",
       "    .dataframe tbody tr th {\n",
       "        vertical-align: top;\n",
       "    }\n",
       "\n",
       "    .dataframe thead th {\n",
       "        text-align: right;\n",
       "    }\n",
       "</style>\n",
       "<table border=\"1\" class=\"dataframe\">\n",
       "  <thead>\n",
       "    <tr style=\"text-align: right;\">\n",
       "      <th></th>\n",
       "      <th>Gender</th>\n",
       "      <th>Age</th>\n",
       "      <th>Occupation</th>\n",
       "      <th>City_Category</th>\n",
       "      <th>Stay_In_Current_City_Years</th>\n",
       "      <th>Marital_Status</th>\n",
       "      <th>Product_Category_1</th>\n",
       "      <th>Product_Category_2</th>\n",
       "      <th>Product_Category_3</th>\n",
       "    </tr>\n",
       "  </thead>\n",
       "  <tbody>\n",
       "    <tr>\n",
       "      <th>240559</th>\n",
       "      <td>0.572769</td>\n",
       "      <td>0.372882</td>\n",
       "      <td>-1.084803</td>\n",
       "      <td>-0.054997</td>\n",
       "      <td>0.111497</td>\n",
       "      <td>1.201813</td>\n",
       "      <td>-0.103449</td>\n",
       "      <td>0.405989</td>\n",
       "      <td>0.368885</td>\n",
       "    </tr>\n",
       "    <tr>\n",
       "      <th>297089</th>\n",
       "      <td>0.572769</td>\n",
       "      <td>0.372882</td>\n",
       "      <td>-0.317762</td>\n",
       "      <td>-0.054997</td>\n",
       "      <td>-0.664325</td>\n",
       "      <td>-0.832076</td>\n",
       "      <td>-0.103449</td>\n",
       "      <td>2.037873</td>\n",
       "      <td>0.368885</td>\n",
       "    </tr>\n",
       "    <tr>\n",
       "      <th>239181</th>\n",
       "      <td>-1.745905</td>\n",
       "      <td>1.111839</td>\n",
       "      <td>-1.084803</td>\n",
       "      <td>1.260138</td>\n",
       "      <td>-0.664325</td>\n",
       "      <td>-0.832076</td>\n",
       "      <td>-0.611451</td>\n",
       "      <td>-1.225895</td>\n",
       "      <td>-3.650797</td>\n",
       "    </tr>\n",
       "    <tr>\n",
       "      <th>355771</th>\n",
       "      <td>0.572769</td>\n",
       "      <td>-0.366075</td>\n",
       "      <td>-1.238211</td>\n",
       "      <td>-1.370131</td>\n",
       "      <td>0.111497</td>\n",
       "      <td>-0.832076</td>\n",
       "      <td>0.658555</td>\n",
       "      <td>-0.293390</td>\n",
       "      <td>0.368885</td>\n",
       "    </tr>\n",
       "    <tr>\n",
       "      <th>157196</th>\n",
       "      <td>0.572769</td>\n",
       "      <td>1.111839</td>\n",
       "      <td>1.523134</td>\n",
       "      <td>1.260138</td>\n",
       "      <td>1.663143</td>\n",
       "      <td>1.201813</td>\n",
       "      <td>1.420558</td>\n",
       "      <td>1.571621</td>\n",
       "      <td>0.368885</td>\n",
       "    </tr>\n",
       "  </tbody>\n",
       "</table>\n",
       "</div>"
      ],
      "text/plain": [
       "          Gender       Age  Occupation  City_Category  \\\n",
       "240559  0.572769  0.372882   -1.084803      -0.054997   \n",
       "297089  0.572769  0.372882   -0.317762      -0.054997   \n",
       "239181 -1.745905  1.111839   -1.084803       1.260138   \n",
       "355771  0.572769 -0.366075   -1.238211      -1.370131   \n",
       "157196  0.572769  1.111839    1.523134       1.260138   \n",
       "\n",
       "        Stay_In_Current_City_Years  Marital_Status  Product_Category_1  \\\n",
       "240559                    0.111497        1.201813           -0.103449   \n",
       "297089                   -0.664325       -0.832076           -0.103449   \n",
       "239181                   -0.664325       -0.832076           -0.611451   \n",
       "355771                    0.111497       -0.832076            0.658555   \n",
       "157196                    1.663143        1.201813            1.420558   \n",
       "\n",
       "        Product_Category_2  Product_Category_3  \n",
       "240559            0.405989            0.368885  \n",
       "297089            2.037873            0.368885  \n",
       "239181           -1.225895           -3.650797  \n",
       "355771           -0.293390            0.368885  \n",
       "157196            1.571621            0.368885  "
      ]
     },
     "execution_count": 20,
     "metadata": {},
     "output_type": "execute_result"
    }
   ],
   "source": [
    "x_train.head()"
   ]
  },
  {
   "cell_type": "code",
   "execution_count": 21,
   "id": "7f5d0ce3-118f-47ab-82ad-6050b4705461",
   "metadata": {
    "tags": []
   },
   "outputs": [
    {
     "data": {
      "text/plain": [
       "355324     8678.0\n",
       "228225    19627.0\n",
       "41170      8086.0\n",
       "258037    12698.0\n",
       "81731      5965.0\n",
       "           ...   \n",
       "311467     9709.0\n",
       "118091    15816.0\n",
       "333753    19277.0\n",
       "335692    19045.0\n",
       "143149     4156.0\n",
       "Name: Purchase, Length: 165021, dtype: float64"
      ]
     },
     "execution_count": 21,
     "metadata": {},
     "output_type": "execute_result"
    }
   ],
   "source": [
    "y_test"
   ]
  },
  {
   "cell_type": "markdown",
   "id": "285ed67e-52ff-4bca-bb4e-40826a8a9248",
   "metadata": {},
   "source": [
    "# Models"
   ]
  },
  {
   "cell_type": "markdown",
   "id": "a8d34b87-e113-4453-90de-f7eee4302bfe",
   "metadata": {},
   "source": [
    "## Linear Regression"
   ]
  },
  {
   "cell_type": "code",
   "execution_count": 22,
   "id": "8603da79-cd02-4a52-ba58-861f5b2e7c36",
   "metadata": {
    "tags": []
   },
   "outputs": [],
   "source": [
    "pred_dict = {}\n",
    "lr_model = LinearRegression()\n",
    "lr_model.fit(x_train , y_train)\n",
    "lr_y_pred = lr_model.predict(x_test)\n",
    "\n",
    "pred_dict['Linear_y_pred'] = lr_y_pred "
   ]
  },
  {
   "cell_type": "markdown",
   "id": "3ea18b8d-7b8a-4304-97d8-3624e659b733",
   "metadata": {},
   "source": [
    "## Lasso Regression"
   ]
  },
  {
   "cell_type": "code",
   "execution_count": 26,
   "id": "070b2276-8620-42e4-b63b-cecdddfa65db",
   "metadata": {
    "tags": []
   },
   "outputs": [
    {
     "name": "stdout",
     "output_type": "stream",
     "text": [
      "Migliore alpha per Lasso: 0.0001\n",
      "Miglior score (neg_mean_squared_error): -21936813.679624535\n"
     ]
    }
   ],
   "source": [
    "lasso_model = Lasso()\n",
    "param_grid = {\n",
    "    'alpha': [0.0001, 0.001, 0.01, 0.1, 1, 10, 100]\n",
    "}\n",
    "grid_search = GridSearchCV(lasso_model, param_grid, cv=5, scoring='neg_mean_squared_error')\n",
    "grid_search.fit(x_train, y_train)\n",
    "best_alpha = grid_search.best_params_['alpha']\n",
    "best_score = grid_search.best_score_\n",
    "print(f\"Best alpha for Lasso: {best_alpha}\")\n",
    "print(f\"Best score (neg_mean_squared_error): {best_score}\")\n",
    "\n"
   ]
  },
  {
   "cell_type": "code",
   "execution_count": 27,
   "id": "e5a101b5-8274-4c82-a90a-885d7df30eee",
   "metadata": {
    "tags": []
   },
   "outputs": [],
   "source": [
    "# lasso_model.fit(x_train,y_train)\n",
    "# lasso_y_pred = lasso_model.predict(x_test)\n",
    "# pred_dict['Lasso_y_pred'] = lasso_y_pred\n",
    "\n",
    "best_lasso = grid_search.best_estimator_\n",
    "lasso_y_pred = best_lasso.predict(x_test)\n",
    "pred_dict['Lasso_y_pred'] = lasso_y_pred"
   ]
  },
  {
   "cell_type": "markdown",
   "id": "f48aa7bd-28cb-4534-9c84-77a01b59ca77",
   "metadata": {},
   "source": [
    "## Ridge Model"
   ]
  },
  {
   "cell_type": "code",
   "execution_count": 29,
   "id": "c3d3c38e-d273-46dd-b412-4d75ff8f85a0",
   "metadata": {
    "tags": []
   },
   "outputs": [
    {
     "name": "stdout",
     "output_type": "stream",
     "text": [
      "Migliore alpha per Ridge: 100\n",
      "Miglior score (neg_mean_squared_error): -21936813.110701635\n"
     ]
    }
   ],
   "source": [
    "ridge = Ridge()\n",
    "param_grid = {\n",
    "    'alpha': [0.001, 0.01, 0.1, 1, 10, 100, 1000]\n",
    "}\n",
    "\n",
    "grid_search = GridSearchCV(ridge, param_grid, cv=5, scoring='neg_mean_squared_error')\n",
    "grid_search.fit(x_train, y_train)\n",
    "best_alpha = grid_search.best_params_['alpha']\n",
    "best_score = grid_search.best_score_\n",
    "\n",
    "print(f\"Best alpha for Ridge: {best_alpha}\")\n",
    "print(f\"best score (neg_mean_squared_error): {best_score}\")"
   ]
  },
  {
   "cell_type": "code",
   "execution_count": 30,
   "id": "b8c16e93-f02f-4408-99d1-485a218fc1cc",
   "metadata": {
    "tags": []
   },
   "outputs": [],
   "source": [
    "# ridge_model = Ridge()\n",
    "# ridge_model.fit(x_train,y_train)\n",
    "# ridge_y_pred = ridge_model.predict(x_test)\n",
    "# pred_dict['Ridge_y_pred'] = ridge_y_pred\n",
    "\n",
    "best_ridge = grid_search.best_estimator_\n",
    "ridge_y_pred = best_ridge.predict(x_test)\n",
    "pred_dict['Ridge_y_pred'] = ridge_y_pred"
   ]
  },
  {
   "cell_type": "markdown",
   "id": "83373caa-ae1c-4a68-acfe-654b46d4a876",
   "metadata": {},
   "source": [
    "## Decision Tree Model"
   ]
  },
  {
   "cell_type": "code",
   "execution_count": 31,
   "id": "e88bd11a-8e03-43cf-af1e-55a3924f7231",
   "metadata": {
    "tags": []
   },
   "outputs": [
    {
     "name": "stdout",
     "output_type": "stream",
     "text": [
      "Migliori parametri: {'max_depth': 10, 'min_samples_leaf': 10, 'min_samples_split': 2}\n",
      "Miglior score (neg_mean_squared_error): -8775051.960184444\n"
     ]
    }
   ],
   "source": [
    "tree_model = DecisionTreeRegressor()\n",
    "\n",
    "# Griglia di parametri da testare per il DecisionTreeRegressor\n",
    "param_grid = {\n",
    "    'max_depth': [None, 5, 10, 15, 20],\n",
    "    'min_samples_split': [2, 5, 10, 15],\n",
    "    'min_samples_leaf': [1, 2, 5, 10]\n",
    "}\n",
    "\n",
    "grid_search = GridSearchCV(tree_model, param_grid, cv=5, scoring='neg_mean_squared_error')\n",
    "grid_search.fit(x_train, y_train)\n",
    "best_params = grid_search.best_params_\n",
    "best_score = grid_search.best_score_\n",
    "print(\"Best parameters:\", best_params)\n",
    "print(\"Miglior score (neg_mean_squared_error):\", best_score)"
   ]
  },
  {
   "cell_type": "code",
   "execution_count": 32,
   "id": "cc27dc0d-70d5-4794-a107-049930c404cc",
   "metadata": {
    "tags": []
   },
   "outputs": [],
   "source": [
    "# tree_model = DecisionTreeRegressor()\n",
    "# tree_model.fit(x_train , y_train)\n",
    "# tree_y_pred = tree_model.predict(x_test)\n",
    "# pred_dict['Tree_y_pred'] = tree_y_pred \n",
    "\n",
    "\n",
    "best_tree_model = grid_search.best_estimator_\n",
    "tree_y_pred = best_tree_model.predict(x_test)\n",
    "pred_dict['Tree_y_pred'] = tree_y_pred"
   ]
  },
  {
   "cell_type": "markdown",
   "id": "cabacf52-508f-4857-a911-b5c1be46ad4d",
   "metadata": {},
   "source": [
    "## Random Forest Regression"
   ]
  },
  {
   "cell_type": "code",
   "execution_count": 37,
   "id": "d2781353-2cea-4d68-98f3-d35922445767",
   "metadata": {
    "tags": []
   },
   "outputs": [
    {
     "name": "stdout",
     "output_type": "stream",
     "text": [
      "Migliori parametri: {'max_depth': 10, 'min_samples_leaf': 1, 'min_samples_split': 2, 'n_estimators': 200}\n",
      "Miglior score (neg_mean_squared_error): -8676085.163033709\n"
     ]
    }
   ],
   "source": [
    "rf_model = RandomForestRegressor()\n",
    "\n",
    "# Griglia di parametri da testare per il RandomForestRegressor\n",
    "param_grid = {\n",
    "    'n_estimators': [100, 200],  # Numero di alberi\n",
    "    'max_depth': [5, 10],  # Profondità massima degli alberi\n",
    "    'min_samples_split': [2, 5],  # Numero minimo di campioni per dividere un nodo\n",
    "    'min_samples_leaf': [1, 2]  # Numero minimo di campioni per essere in un nodo foglia\n",
    "}\n",
    "\n",
    "# Configurazione della ricerca a griglia con validazione incrociata\n",
    "grid_search = GridSearchCV(rf_model, param_grid, cv=5, scoring='neg_mean_squared_error', n_jobs=-1)\n",
    "# Addestramento della ricerca a griglia sul set di addestramento\n",
    "grid_search.fit(x_train, y_train)\n",
    "# Ottenimento e stampa dei migliori parametri e del miglior score\n",
    "best_params = grid_search.best_params_\n",
    "best_score = grid_search.best_score_\n",
    "print(\"Best parameters:\", best_params)\n",
    "print(\"Best score (neg_mean_squared_error):\", best_score)\n"
   ]
  },
  {
   "cell_type": "code",
   "execution_count": 38,
   "id": "d61b4150-eeb6-4ef6-975c-114e1246f624",
   "metadata": {
    "tags": []
   },
   "outputs": [],
   "source": [
    "# rf_regressor = RandomForestRegressor(n_estimators=100, random_state=42)  # Usa 100 alberi\n",
    "# rf_regressor.fit(x_train, y_train)\n",
    "# # Predizione sui dati di test\n",
    "# y_pred_rf = rf_regressor.predict(x_test)\n",
    "# pred_dict['RF_y_pred']=y_pred_rf\n",
    "\n",
    "best_rf_model = grid_search.best_estimator_\n",
    "rf_y_pred = best_rf_model.predict(x_test)\n",
    "pred_dict['RF_y_pred'] = rf_y_pred"
   ]
  },
  {
   "cell_type": "markdown",
   "id": "96b8aa5c-e667-418a-bddf-cf544b5b8b71",
   "metadata": {},
   "source": [
    "## Gradient Boosting Machines"
   ]
  },
  {
   "cell_type": "code",
   "execution_count": null,
   "id": "bef702e9-f694-476d-8269-faaeaaf340c5",
   "metadata": {
    "tags": []
   },
   "outputs": [],
   "source": [
    "gb_model = GradientBoostingRegressor()\n",
    "\n",
    "param_grid = {\n",
    "    'n_estimators': [100, 200],  # Numero di alberi\n",
    "    'max_depth': [3, 5],  # Profondità massima degli alberi\n",
    "    'learning_rate': [0.1, 0.2],  # Tasso di apprendimento\n",
    "}\n",
    "\n",
    "grid_search = GridSearchCV(gb_model, param_grid, cv=5, scoring='neg_mean_squared_error', n_jobs=-1)\n",
    "grid_search.fit(x_train, y_train)\n",
    "best_params = grid_search.best_params_\n",
    "best_score = grid_search.best_score_\n",
    "\n",
    "print(\"Best parameters:\", best_params)\n",
    "print(\"Best score (neg_mean_squared_error):\", best_score)"
   ]
  },
  {
   "cell_type": "code",
   "execution_count": 50,
   "id": "f5bf36ad-acab-410c-be35-39436a51a569",
   "metadata": {
    "tags": []
   },
   "outputs": [],
   "source": [
    "gbm_regressor = GradientBoostingRegressor(n_estimators=100, learning_rate=0.1, max_depth=3, random_state=42)\n",
    "gbm_regressor.fit(x_train, y_train)\n",
    "# Predizione sui dati di test\n",
    "y_pred_gbm = gbm_regressor.predict(x_test)\n",
    "pred_dict['GBM_y_pred']=y_pred_gbm\n",
    "\n",
    "# # Ottenimento del miglior modello GradientBoostingRegressor\n",
    "# best_gb_model = grid_search.best_estimator_\n",
    "# # Utilizzo del miglior modello per fare predizioni\n",
    "# gbm_y_pred = best_gb_model.predict(x_test)\n",
    "# # Aggiunta della predizione al dizionario delle predizioni, se desiderato\n",
    "# pred_dict['GBM_y_pred'] = gbm_y_pred"
   ]
  },
  {
   "cell_type": "markdown",
   "id": "840734ec-97ac-4f28-88af-efa6beba7f8d",
   "metadata": {},
   "source": [
    "## XGBoost"
   ]
  },
  {
   "cell_type": "code",
   "execution_count": 44,
   "id": "833ffbe1-e179-45d5-b781-ae6dc3c0ff46",
   "metadata": {
    "tags": []
   },
   "outputs": [],
   "source": [
    "dtrain = xgb.DMatrix(x_train, label=y_train)\n",
    "dtest = xgb.DMatrix(x_test, label=y_test)\n",
    "# Imposto i parametri per XGBoost\n",
    "params = {\n",
    "    'max_depth': 3,  # Profondità massima di ciascun albero\n",
    "    'eta': 0.1,      # Tasso di apprendimento\n",
    "    'objective': 'reg:squarederror',  # Obiettivo di regressione con errore quadratico\n",
    "    'eval_metric': 'rmse'  # Metrica di valutazione: Root Mean Squared Error\n",
    "}\n",
    "num_round=100\n",
    "# Addestramento del modello\n",
    "bst = xgb.train(params, dtrain, num_round)\n",
    "\n",
    "# Predizione sui dati di test\n",
    "y_pred_xgb = bst.predict(dtest)\n",
    "pred_dict['XGB_y_pred']=y_pred_xgb"
   ]
  },
  {
   "cell_type": "markdown",
   "id": "28d22431-ce65-4a43-aa64-2ec8043759e3",
   "metadata": {},
   "source": [
    "## Light Gradient Boost"
   ]
  },
  {
   "cell_type": "code",
   "execution_count": 43,
   "id": "95cd794c-65e0-4555-a413-23f4a7aa3587",
   "metadata": {
    "tags": []
   },
   "outputs": [],
   "source": [
    "# Creazione del dataset di LightGBM\n",
    "lgb_train = lgb.Dataset(x_train, y_train)\n",
    "lgb_test = lgb.Dataset(x_test, y_test, reference=lgb_train)\n",
    "\n",
    "# Imposta i parametri per LightGBM\n",
    "params = {\n",
    "    'boosting_type': 'gbdt',  # Tipo di algoritmo di boosting (Gradient Boosting Decision Tree)\n",
    "    'objective': 'regression',  # Obiettivo di regressione\n",
    "    'metric': {'l2', 'l1'},  # Utilizza MSE (l2) e MAE (l1) come metriche\n",
    "    'num_leaves': 31,  # Numero di foglie in un albero\n",
    "    'learning_rate': 0.05,  # Tasso di apprendimento\n",
    "    'feature_fraction': 0.9,  # Percentuale di feature da considerare ad ogni albero\n",
    "    'bagging_fraction': 0.8,  # Percentuale di dati da usare per ogni albero\n",
    "    'bagging_freq': 5,  # Frequenza di bagging\n",
    "    'verbose': 0  # Meno messaggi di verbose\n",
    "}\n",
    "\n",
    "# Numero di round di boosting\n",
    "num_round = 100\n",
    "# Addestramento del modello\n",
    "gbm = lgb.train(params, lgb_train, num_boost_round=num_round, valid_sets=lgb_test)\n",
    "\n",
    "# Predizione sui dati di test\n",
    "y_pred_lgbm = gbm.predict(x_test, num_iteration=gbm.best_iteration)\n",
    "pred_dict['LGB_y_pred']=y_pred_lgbm"
   ]
  },
  {
   "cell_type": "markdown",
   "id": "49f0e657-bec4-4d28-b9de-1b4cb8d98e09",
   "metadata": {},
   "source": [
    "## CatBoost"
   ]
  },
  {
   "cell_type": "code",
   "execution_count": 45,
   "id": "f2ee82de-dfe4-4fbd-b496-0a0e8fb88e4b",
   "metadata": {
    "tags": []
   },
   "outputs": [
    {
     "name": "stdout",
     "output_type": "stream",
     "text": [
      "0:\tlearn: 5002.5156474\ttest: 5001.1846433\tbest: 5001.1846433 (0)\ttotal: 111ms\tremaining: 11s\n",
      "10:\tlearn: 4813.2044406\ttest: 4812.2230067\tbest: 4812.2230067 (10)\ttotal: 324ms\tremaining: 2.62s\n",
      "20:\tlearn: 4650.5343808\ttest: 4649.6900274\tbest: 4649.6900274 (20)\ttotal: 528ms\tremaining: 1.99s\n",
      "30:\tlearn: 4510.6199882\ttest: 4509.8915496\tbest: 4509.8915496 (30)\ttotal: 736ms\tremaining: 1.64s\n",
      "40:\tlearn: 4388.5896677\ttest: 4387.7588764\tbest: 4387.7588764 (40)\ttotal: 935ms\tremaining: 1.34s\n",
      "50:\tlearn: 4280.7028265\ttest: 4279.7019231\tbest: 4279.7019231 (50)\ttotal: 1.14s\tremaining: 1.09s\n",
      "60:\tlearn: 4186.1745924\ttest: 4185.0581048\tbest: 4185.0581048 (60)\ttotal: 1.33s\tremaining: 854ms\n",
      "70:\tlearn: 4108.9757889\ttest: 4107.5607742\tbest: 4107.5607742 (70)\ttotal: 1.55s\tremaining: 632ms\n",
      "80:\tlearn: 4040.0525231\ttest: 4038.2463809\tbest: 4038.2463809 (80)\ttotal: 1.74s\tremaining: 409ms\n",
      "90:\tlearn: 3978.0893233\ttest: 3975.8688359\tbest: 3975.8688359 (90)\ttotal: 1.96s\tremaining: 193ms\n",
      "99:\tlearn: 3929.9584481\ttest: 3927.5464385\tbest: 3927.5464385 (99)\ttotal: 2.15s\tremaining: 0us\n",
      "\n",
      "bestTest = 3927.546439\n",
      "bestIteration = 99\n",
      "\n"
     ]
    }
   ],
   "source": [
    "cb_regressor = CatBoostRegressor(\n",
    "    iterations=100,\n",
    "    learning_rate=0.01,\n",
    "    depth=3,\n",
    "    loss_function='RMSE',\n",
    "    verbose=10,  # Stampa l'output ogni 10 iterazioni\n",
    "    random_seed=42\n",
    ")\n",
    "# Addestramento del modello\n",
    "cb_regressor.fit(x_train, y_train, eval_set=(x_test, y_test), use_best_model=True)\n",
    "\n",
    "# Predizione sui dati di test\n",
    "y_pred_cb = cb_regressor.predict(x_test)\n",
    "pred_dict['CB_y_pred']=y_pred_cb"
   ]
  },
  {
   "cell_type": "code",
   "execution_count": 113,
   "id": "7dc0181d-fd02-440c-a8c3-563116aaf24b",
   "metadata": {
    "tags": []
   },
   "outputs": [],
   "source": [
    "del pred_dict['Original_y_test']"
   ]
  },
  {
   "cell_type": "code",
   "execution_count": 114,
   "id": "c198b4f7-4eab-4615-80bd-8bccac24ae11",
   "metadata": {
    "tags": []
   },
   "outputs": [],
   "source": [
    "del res_df"
   ]
  },
  {
   "cell_type": "code",
   "execution_count": 46,
   "id": "bbfbe99c-9aae-448d-8e41-6909d569d8de",
   "metadata": {
    "tags": []
   },
   "outputs": [],
   "source": [
    "pred_dict['Original_y_test'] = y_test "
   ]
  },
  {
   "cell_type": "code",
   "execution_count": 47,
   "id": "7ff2c106-97ff-4767-b88c-219598397741",
   "metadata": {
    "tags": []
   },
   "outputs": [
    {
     "data": {
      "text/html": [
       "<div>\n",
       "<style scoped>\n",
       "    .dataframe tbody tr th:only-of-type {\n",
       "        vertical-align: middle;\n",
       "    }\n",
       "\n",
       "    .dataframe tbody tr th {\n",
       "        vertical-align: top;\n",
       "    }\n",
       "\n",
       "    .dataframe thead th {\n",
       "        text-align: right;\n",
       "    }\n",
       "</style>\n",
       "<table border=\"1\" class=\"dataframe\">\n",
       "  <thead>\n",
       "    <tr style=\"text-align: right;\">\n",
       "      <th></th>\n",
       "      <th>Linear_y_pred</th>\n",
       "      <th>Lasso_y_pred</th>\n",
       "      <th>Ridge_y_pred</th>\n",
       "      <th>Tree_y_pred</th>\n",
       "      <th>RF_y_pred</th>\n",
       "      <th>LGB_y_pred</th>\n",
       "      <th>XGB_y_pred</th>\n",
       "      <th>CB_y_pred</th>\n",
       "      <th>Original_y_test</th>\n",
       "    </tr>\n",
       "  </thead>\n",
       "  <tbody>\n",
       "    <tr>\n",
       "      <th>355324</th>\n",
       "      <td>9658.802937</td>\n",
       "      <td>9658.802717</td>\n",
       "      <td>9658.652464</td>\n",
       "      <td>5861.087873</td>\n",
       "      <td>5889.705488</td>\n",
       "      <td>6225.165207</td>\n",
       "      <td>6170.169434</td>\n",
       "      <td>7550.303982</td>\n",
       "      <td>8678.0</td>\n",
       "    </tr>\n",
       "    <tr>\n",
       "      <th>228225</th>\n",
       "      <td>10953.287028</td>\n",
       "      <td>10953.287045</td>\n",
       "      <td>10952.793889</td>\n",
       "      <td>15585.127804</td>\n",
       "      <td>15641.380357</td>\n",
       "      <td>15642.220258</td>\n",
       "      <td>14828.150391</td>\n",
       "      <td>11836.316968</td>\n",
       "      <td>19627.0</td>\n",
       "    </tr>\n",
       "    <tr>\n",
       "      <th>41170</th>\n",
       "      <td>8973.179474</td>\n",
       "      <td>8973.179023</td>\n",
       "      <td>8972.950279</td>\n",
       "      <td>8442.043437</td>\n",
       "      <td>8385.385624</td>\n",
       "      <td>8235.581081</td>\n",
       "      <td>8207.905273</td>\n",
       "      <td>8164.720948</td>\n",
       "      <td>8086.0</td>\n",
       "    </tr>\n",
       "    <tr>\n",
       "      <th>258037</th>\n",
       "      <td>8920.869267</td>\n",
       "      <td>8920.869200</td>\n",
       "      <td>8920.969910</td>\n",
       "      <td>15938.197144</td>\n",
       "      <td>16060.381291</td>\n",
       "      <td>15786.261137</td>\n",
       "      <td>15500.220703</td>\n",
       "      <td>11618.528625</td>\n",
       "      <td>12698.0</td>\n",
       "    </tr>\n",
       "    <tr>\n",
       "      <th>81731</th>\n",
       "      <td>7740.739842</td>\n",
       "      <td>7740.740040</td>\n",
       "      <td>7741.155551</td>\n",
       "      <td>7495.475184</td>\n",
       "      <td>7549.127371</td>\n",
       "      <td>7607.734020</td>\n",
       "      <td>7656.835938</td>\n",
       "      <td>8164.720948</td>\n",
       "      <td>5965.0</td>\n",
       "    </tr>\n",
       "  </tbody>\n",
       "</table>\n",
       "</div>"
      ],
      "text/plain": [
       "        Linear_y_pred  Lasso_y_pred  Ridge_y_pred   Tree_y_pred     RF_y_pred  \\\n",
       "355324    9658.802937   9658.802717   9658.652464   5861.087873   5889.705488   \n",
       "228225   10953.287028  10953.287045  10952.793889  15585.127804  15641.380357   \n",
       "41170     8973.179474   8973.179023   8972.950279   8442.043437   8385.385624   \n",
       "258037    8920.869267   8920.869200   8920.969910  15938.197144  16060.381291   \n",
       "81731     7740.739842   7740.740040   7741.155551   7495.475184   7549.127371   \n",
       "\n",
       "          LGB_y_pred    XGB_y_pred     CB_y_pred  Original_y_test  \n",
       "355324   6225.165207   6170.169434   7550.303982           8678.0  \n",
       "228225  15642.220258  14828.150391  11836.316968          19627.0  \n",
       "41170    8235.581081   8207.905273   8164.720948           8086.0  \n",
       "258037  15786.261137  15500.220703  11618.528625          12698.0  \n",
       "81731    7607.734020   7656.835938   8164.720948           5965.0  "
      ]
     },
     "execution_count": 47,
     "metadata": {},
     "output_type": "execute_result"
    }
   ],
   "source": [
    "res_df = pd.DataFrame(pred_dict)\n",
    "\n",
    "res_df.head()"
   ]
  },
  {
   "cell_type": "code",
   "execution_count": 48,
   "id": "fdf94da1-706c-4de6-92d8-8dbba1a97cc5",
   "metadata": {
    "tags": []
   },
   "outputs": [],
   "source": [
    "res_df.to_csv('data/res/Model_predictions.csv' , index = False)"
   ]
  },
  {
   "cell_type": "markdown",
   "id": "1d4ef664-bc6e-44c5-bf31-64bba816e80c",
   "metadata": {},
   "source": [
    "# Model Comparison"
   ]
  },
  {
   "cell_type": "code",
   "execution_count": null,
   "id": "51915f79-d607-419d-8c19-8953e5489bab",
   "metadata": {},
   "outputs": [],
   "source": [
    "# To be run if needed\n",
    "# res_df=pd.read_csv('data/res/Model_predictions.csv')\n",
    "# res_df.head()"
   ]
  },
  {
   "cell_type": "markdown",
   "id": "5bfcfb99-ca60-4ffa-9c4b-108c7b09180f",
   "metadata": {},
   "source": [
    "## Regression metrics"
   ]
  },
  {
   "cell_type": "code",
   "execution_count": 51,
   "id": "094c0311-26fc-4283-808f-a5f8f188c96c",
   "metadata": {
    "tags": []
   },
   "outputs": [
    {
     "name": "stdout",
     "output_type": "stream",
     "text": [
      "Metrics for Linear Regression:\n",
      "  MSE: 21909997.01\n",
      "  RMSE: 4680.81\n",
      "  MAE: 3581.38\n",
      "  R²: 13.130%\n",
      "Metrics for Lasso Regression:\n",
      "  MSE: 21909996.99\n",
      "  RMSE: 4680.81\n",
      "  MAE: 3581.38\n",
      "  R²: 13.130%\n",
      "Metrics for Ridge Regression:\n",
      "  MSE: 21910002.81\n",
      "  RMSE: 4680.81\n",
      "  MAE: 3581.44\n",
      "  R²: 13.130%\n",
      "Metrics for Decision Tree Regression:\n",
      "  MSE: 8726613.57\n",
      "  RMSE: 2954.08\n",
      "  MAE: 2219.56\n",
      "  R²: 65.400%\n",
      "Metrics for Random Forest Regression:\n",
      "  MSE: 8642683.59\n",
      "  RMSE: 2939.84\n",
      "  MAE: 2212.81\n",
      "  R²: 65.733%\n",
      "Metrics for Gradient Boosting Regression:\n",
      "  MSE: 8860297.56\n",
      "  RMSE: 2976.63\n",
      "  MAE: 2259.22\n",
      "  R²: 64.870%\n",
      "Metrics for XG Boosting Regression:\n",
      "  MSE: 8860398.65\n",
      "  RMSE: 2976.64\n",
      "  MAE: 2259.24\n",
      "  R²: 64.870%\n",
      "Metrics for Light Gradient Boosting Regression:\n",
      "  MSE: 8615168.12\n",
      "  RMSE: 2935.16\n",
      "  MAE: 2217.95\n",
      "  R²: 65.842%\n",
      "Metrics for CatBoosting Regression:\n",
      "  MSE: 15425621.03\n",
      "  RMSE: 3927.55\n",
      "  MAE: 2961.73\n",
      "  R²: 38.840%\n"
     ]
    }
   ],
   "source": [
    "from sklearn.metrics import mean_squared_error, mean_absolute_error, r2_score\n",
    "import numpy as np\n",
    "\n",
    "def regression_metrics(y_test, y_pred, model_name='Model'):\n",
    "    mse = mean_squared_error(y_test, y_pred)\n",
    "    rmse = np.sqrt(mse)\n",
    "    mae = mean_absolute_error(y_test, y_pred)\n",
    "    r2 = r2_score(y_test, y_pred)*100\n",
    "    \n",
    "    metrics = {\n",
    "        'MSE': mse,\n",
    "        'RMSE': rmse,\n",
    "        'MAE': mae,\n",
    "        'R2 (%)': r2\n",
    "    }\n",
    "    \n",
    "    print(f\"Metrics for {model_name}:\")\n",
    "    print(f\"  MSE: {mse:.2f}\")\n",
    "    print(f\"  RMSE: {rmse:.2f}\")\n",
    "    print(f\"  MAE: {mae:.2f}\")\n",
    "    print(f\"  R²: {r2:.3f}%\")\n",
    "    \n",
    "    return metrics\n",
    "\n",
    "# Esempio di utilizzo\n",
    "# Assumendo che y_test sia definito e pred_dict contenga le predizioni per vari modelli\n",
    "metrics_linear = regression_metrics(y_test, pred_dict['Linear_y_pred'], 'Linear Regression')\n",
    "metrics_lasso = regression_metrics(y_test, pred_dict['Lasso_y_pred'], 'Lasso Regression')\n",
    "metrics_ridge = regression_metrics(y_test, pred_dict['Ridge_y_pred'], 'Ridge Regression')\n",
    "metrics_tree = regression_metrics(y_test, pred_dict['Tree_y_pred'], 'Decision Tree Regression')\n",
    "metrics_rf = regression_metrics(y_test, pred_dict['RF_y_pred'], 'Random Forest Regression')\n",
    "metrics_gbm = regression_metrics(y_test, pred_dict['GBM_y_pred'], 'Gradient Boosting Regression')\n",
    "metrics_xgb = regression_metrics(y_test, pred_dict['XGB_y_pred'], 'XG Boosting Regression')\n",
    "metrics_lgb = regression_metrics(y_test, pred_dict['LGB_y_pred'], 'Light Gradient Boosting Regression')\n",
    "metrics_cb = regression_metrics(y_test, pred_dict['CB_y_pred'], 'CatBoosting Regression')\n"
   ]
  },
  {
   "cell_type": "markdown",
   "id": "8863c122-5703-4373-bbdf-2b0311e18d99",
   "metadata": {},
   "source": [
    "The output  shows very similar results in terms of **MSE** (Mean Squared Error), **RMSE** (Root Mean Squared Error), **MAE** (Mean Absolute Error), and **R²** (coefficient of determination)."
   ]
  },
  {
   "cell_type": "markdown",
   "id": "5b5ca8a9-6d6d-48a8-b591-b14aacea756b",
   "metadata": {
    "tags": []
   },
   "source": [
    "The regularisation introduced by **Lasso** and **Ridge** does not lead to significant improvements over standard linear regression. The relatively low R² (0.13) for these models indicates that only a small part of the variance is explained by the models."
   ]
  },
  {
   "cell_type": "markdown",
   "id": "562881c0-a8a5-4c8e-ac8f-3fa54f7d12f5",
   "metadata": {},
   "source": [
    "**Decision Tree Regression** performs significantly better than the linear models, with lower MSE and RMSE values and a better MAE. More importantly, the value of R² is much higher (0.56), indicating that this model is able to explain a larger portion of the variance in the test data. This could suggest that the dataset has a non-linear structure or relationships that the decision tree model is able to capture better than linear models."
   ]
  },
  {
   "cell_type": "markdown",
   "id": "84ca1bf5-49eb-4174-8112-c6bf25b5429a",
   "metadata": {},
   "source": [
    "**Random Forest Regressor** outperformed all other models tested. This is consistent with expectations, as decision tree-based models and, in particular, ensembles such as Random Forest tend to be more flexible and powerful, capturing complexities and non-linear relationships in the data better than linear models."
   ]
  },
  {
   "cell_type": "markdown",
   "id": "57e0842e-ab8f-472f-b38c-9cb596fa4e63",
   "metadata": {},
   "source": [
    "From the results obtained for the **Gradient Boosting Regression**, we can see that this model outperformed the Random Forest and all other previously tested models in terms of all key metrics. With an R² value of 0.65, this model shows a superior ability to explain variance in the test data compared to the other models, indicating a good fit and prediction of performance on the data."
   ]
  },
  {
   "cell_type": "markdown",
   "id": "cad40c33-e239-4722-86e3-1ca121788d48",
   "metadata": {},
   "source": [
    "The results obtained for the **XGBoost Regression** show very similar performance to the Gradient Boosting Regression. This indicates that XGBoost, like Gradient Boosting, is very effective in capturing complex relationships and non-linear dynamics in the data, offering accurate predictions and a high degree of variance explanation in the test data."
   ]
  },
  {
   "cell_type": "markdown",
   "id": "274ba98c-454b-46cb-8981-373a39311afe",
   "metadata": {},
   "source": [
    "The results for **Light Gradient Boosting Regression** show a further improvement over the other models tested previously. LightGBM proved to be particularly effective in handling large datasets while maintaining a high training speed without compromising model quality. This is due to its gradient-based tree construction strategy and its efficient handling of categorical features."
   ]
  },
  {
   "cell_type": "markdown",
   "id": "41fda52f-b813-4729-9578-310e5c7b9e09",
   "metadata": {},
   "source": [
    "**CatBoost** has a significantly higher MSE and RMSE than the Gradient Boosting, XGBoost and LightGBM models, but better than the linear models (Linear, Lasso, Ridge Regression). This indicates that although CatBoost has not reached the peak performance of some tree-based models, it still outperforms the linear models in terms of mean square error."
   ]
  },
  {
   "cell_type": "code",
   "execution_count": 52,
   "id": "871e2d82-0e25-482e-9396-136f5bb7381b",
   "metadata": {},
   "outputs": [],
   "source": [
    "res_df=pd.read_csv('data/res/Model_predictions.csv')"
   ]
  },
  {
   "cell_type": "code",
   "execution_count": 53,
   "id": "4b173063-2d45-42f1-99e3-4521f4261bd2",
   "metadata": {
    "tags": []
   },
   "outputs": [
    {
     "data": {
      "text/html": [
       "<div>\n",
       "<style scoped>\n",
       "    .dataframe tbody tr th:only-of-type {\n",
       "        vertical-align: middle;\n",
       "    }\n",
       "\n",
       "    .dataframe tbody tr th {\n",
       "        vertical-align: top;\n",
       "    }\n",
       "\n",
       "    .dataframe thead th {\n",
       "        text-align: right;\n",
       "    }\n",
       "</style>\n",
       "<table border=\"1\" class=\"dataframe\">\n",
       "  <thead>\n",
       "    <tr style=\"text-align: right;\">\n",
       "      <th></th>\n",
       "      <th>Linear_y_pred</th>\n",
       "      <th>Lasso_y_pred</th>\n",
       "      <th>Ridge_y_pred</th>\n",
       "      <th>Tree_y_pred</th>\n",
       "      <th>RF_y_pred</th>\n",
       "      <th>LGB_y_pred</th>\n",
       "      <th>XGB_y_pred</th>\n",
       "      <th>CB_y_pred</th>\n",
       "      <th>Original_y_test</th>\n",
       "    </tr>\n",
       "  </thead>\n",
       "  <tbody>\n",
       "    <tr>\n",
       "      <th>0</th>\n",
       "      <td>9658.802937</td>\n",
       "      <td>9658.802717</td>\n",
       "      <td>9658.652464</td>\n",
       "      <td>5861.087873</td>\n",
       "      <td>5889.705488</td>\n",
       "      <td>6225.165207</td>\n",
       "      <td>6170.1694</td>\n",
       "      <td>7550.303982</td>\n",
       "      <td>8678.0</td>\n",
       "    </tr>\n",
       "    <tr>\n",
       "      <th>1</th>\n",
       "      <td>10953.287028</td>\n",
       "      <td>10953.287045</td>\n",
       "      <td>10952.793889</td>\n",
       "      <td>15585.127804</td>\n",
       "      <td>15641.380357</td>\n",
       "      <td>15642.220258</td>\n",
       "      <td>14828.1500</td>\n",
       "      <td>11836.316968</td>\n",
       "      <td>19627.0</td>\n",
       "    </tr>\n",
       "    <tr>\n",
       "      <th>2</th>\n",
       "      <td>8973.179474</td>\n",
       "      <td>8973.179023</td>\n",
       "      <td>8972.950279</td>\n",
       "      <td>8442.043437</td>\n",
       "      <td>8385.385624</td>\n",
       "      <td>8235.581081</td>\n",
       "      <td>8207.9050</td>\n",
       "      <td>8164.720948</td>\n",
       "      <td>8086.0</td>\n",
       "    </tr>\n",
       "    <tr>\n",
       "      <th>3</th>\n",
       "      <td>8920.869267</td>\n",
       "      <td>8920.869200</td>\n",
       "      <td>8920.969910</td>\n",
       "      <td>15938.197144</td>\n",
       "      <td>16060.381291</td>\n",
       "      <td>15786.261137</td>\n",
       "      <td>15500.2210</td>\n",
       "      <td>11618.528625</td>\n",
       "      <td>12698.0</td>\n",
       "    </tr>\n",
       "    <tr>\n",
       "      <th>4</th>\n",
       "      <td>7740.739842</td>\n",
       "      <td>7740.740040</td>\n",
       "      <td>7741.155551</td>\n",
       "      <td>7495.475184</td>\n",
       "      <td>7549.127371</td>\n",
       "      <td>7607.734020</td>\n",
       "      <td>7656.8360</td>\n",
       "      <td>8164.720948</td>\n",
       "      <td>5965.0</td>\n",
       "    </tr>\n",
       "  </tbody>\n",
       "</table>\n",
       "</div>"
      ],
      "text/plain": [
       "   Linear_y_pred  Lasso_y_pred  Ridge_y_pred   Tree_y_pred     RF_y_pred  \\\n",
       "0    9658.802937   9658.802717   9658.652464   5861.087873   5889.705488   \n",
       "1   10953.287028  10953.287045  10952.793889  15585.127804  15641.380357   \n",
       "2    8973.179474   8973.179023   8972.950279   8442.043437   8385.385624   \n",
       "3    8920.869267   8920.869200   8920.969910  15938.197144  16060.381291   \n",
       "4    7740.739842   7740.740040   7741.155551   7495.475184   7549.127371   \n",
       "\n",
       "     LGB_y_pred  XGB_y_pred     CB_y_pred  Original_y_test  \n",
       "0   6225.165207   6170.1694   7550.303982           8678.0  \n",
       "1  15642.220258  14828.1500  11836.316968          19627.0  \n",
       "2   8235.581081   8207.9050   8164.720948           8086.0  \n",
       "3  15786.261137  15500.2210  11618.528625          12698.0  \n",
       "4   7607.734020   7656.8360   8164.720948           5965.0  "
      ]
     },
     "execution_count": 53,
     "metadata": {},
     "output_type": "execute_result"
    }
   ],
   "source": [
    "res_df.head()"
   ]
  },
  {
   "cell_type": "markdown",
   "id": "4dbe181c-57e3-4e7b-944a-6e6e22f881bb",
   "metadata": {},
   "source": [
    "### MSE comparison"
   ]
  },
  {
   "cell_type": "code",
   "execution_count": 57,
   "id": "e39ee642-0ed2-4b34-b435-8a4e62d9a1f1",
   "metadata": {
    "tags": []
   },
   "outputs": [
    {
     "data": {
      "image/png": "[encoded data removed]",
      "text/plain": [
       "<Figure size 1200x600 with 1 Axes>"
      ]
     },
     "metadata": {},
     "output_type": "display_data"
    }
   ],
   "source": [
    "mse_values = [22025697.84, 22025601.63, 22025697.77, 10997810.54, 9280139.74, 8920188.12, 8916563.20, 8673220.87, 15498775.61]\n",
    "mse_values_sci = [f\"{x / 1e4:.3f}×10⁴\" for x in mse_values]\n",
    "\n",
    "models = ['Linear', 'Lasso', 'Ridge', 'Decision Tree', 'Random Forest', 'Gradient Boosting', 'XGBoost', 'LightGBM', 'CatBoost']\n",
    "\n",
    "# Creazione del grafico a barre\n",
    "plt.figure(figsize=(12, 6))\n",
    "bars = plt.bar(models, mse_values, color='skyblue', width=0.7)\n",
    "\n",
    "# Aggiunta del valore esatto su ogni barra\n",
    "for i, bar in enumerate(bars):\n",
    "    yval = bar.get_height()\n",
    "    plt.text(bar.get_x() + bar.get_width()/2.0, yval + 1000, mse_values_sci[i], va='center', ha='center') \n",
    "\n",
    "plt.xlabel('Modello di Regressione')\n",
    "plt.ylabel('MSE')\n",
    "plt.title('Confronto degli MSE tra i modelli di Regressione')\n",
    "plt.xticks(rotation=45, ha=\"right\")\n",
    "plt.tight_layout()\n",
    "\n",
    "# Salvataggio del grafico in un file png\n",
    "plt.savefig('res/models plots/MSE_comparison.png')\n",
    "\n",
    "# Mostrare il grafico\n",
    "plt.show()\n"
   ]
  },
  {
   "cell_type": "markdown",
   "id": "d83b86c0-7b17-4762-82a2-4945710caa0f",
   "metadata": {
    "tags": []
   },
   "source": [
    "### RMSE comparison"
   ]
  },
  {
   "cell_type": "code",
   "execution_count": 58,
   "id": "4d4eb70f-fee2-4161-86ff-7db8736c99b3",
   "metadata": {
    "tags": []
   },
   "outputs": [
    {
     "data": {
      "text/plain": [
       "<Figure size 1000x600 with 0 Axes>"
      ]
     },
     "metadata": {},
     "output_type": "display_data"
    },
    {
     "data": {
      "image/png": "[encoded data removed]",
      "text/plain": [
       "<Figure size 1000x600 with 1 Axes>"
      ]
     },
     "metadata": {},
     "output_type": "display_data"
    }
   ],
   "source": [
    "import matplotlib.pyplot as plt\n",
    "\n",
    "# Nomi dei modelli\n",
    "models = ['Linear', 'Lasso', 'Ridge', 'Decision Tree', 'Random Forest', 'Gradient Boosting', 'XGBoost', 'LightGBM', 'CatBoost']\n",
    "\n",
    "# RMSE per ogni modello\n",
    "rmse_values = [\n",
    "    4680.81,  # Linear Regression\n",
    "    4680.81,  # Lasso Regression\n",
    "    4680.81,  # Ridge Regression\n",
    "    2954.08,  # Decision Tree Regression\n",
    "    2939.84,  # Random Forest Regression\n",
    "    2976.63,  # Gradient Boosting Regression\n",
    "    2976.64,  # XG Boosting Regression\n",
    "    2935.16,  # Light Gradient Boosting Regression\n",
    "    3927.55   # CatBoosting Regression\n",
    "]\n",
    "# Creazione del grafico a barre\n",
    "plt.figure(figsize=(10, 6))\n",
    "plt.figure(figsize=(10, 6))\n",
    "bars = plt.bar(models, rmse_values, color='salmon')\n",
    "\n",
    "# Aggiunta del valore esatto su ogni barra\n",
    "for bar in bars:\n",
    "    yval = bar.get_height()\n",
    "    plt.text(bar.get_x() + bar.get_width()/2.0, yval+60, round(yval, 2), va='center', ha='center') # arrotondato a 2 cifre decimali\n",
    "\n",
    "plt.xlabel('Modello di Regressione')\n",
    "plt.ylabel('RMSE')\n",
    "plt.title('Confronto dell\\'RMSE tra i modelli di Regressione')\n",
    "plt.xticks(rotation=45, ha=\"right\")\n",
    "plt.tight_layout()\n",
    "\n",
    "# Mostrare il grafico\n",
    "plt.savefig('res/models plots/RSME_comparison.png')\n",
    "plt.show()\n"
   ]
  },
  {
   "cell_type": "markdown",
   "id": "5dbb4bf3-bc1b-42d1-92fe-3acfbcdb1027",
   "metadata": {},
   "source": [
    "### MAE comparison"
   ]
  },
  {
   "cell_type": "code",
   "execution_count": 59,
   "id": "d84e3e49-c718-434e-9299-725c1719fe6e",
   "metadata": {
    "tags": []
   },
   "outputs": [
    {
     "data": {
      "text/plain": [
       "<Figure size 1000x600 with 0 Axes>"
      ]
     },
     "metadata": {},
     "output_type": "display_data"
    },
    {
     "data": {
      "image/png": "[encoded data removed]",
      "text/plain": [
       "<Figure size 1000x600 with 1 Axes>"
      ]
     },
     "metadata": {},
     "output_type": "display_data"
    }
   ],
   "source": [
    "mae_values = [\n",
    "    3581.38,  # Linear Regression\n",
    "    3581.38,  # Lasso Regression\n",
    "    3581.44,  # Ridge Regression\n",
    "    2219.56,  # Decision Tree Regression\n",
    "    2212.81,  # Random Forest Regression\n",
    "    2259.22,  # Gradient Boosting Regression\n",
    "    2259.24,  # XG Boosting Regression\n",
    "    2217.95,  # Light Gradient Boosting Regression\n",
    "    2961.73   # CatBoosting Regression\n",
    "]# Creazione del grafico a barre\n",
    "plt.figure(figsize=(10, 6))\n",
    "plt.figure(figsize=(10, 6))\n",
    "bars = plt.bar(models, mae_values, color='lightgreen')\n",
    "\n",
    "# Aggiunta del valore esatto su ogni barra\n",
    "for bar in bars:\n",
    "    yval = bar.get_height()\n",
    "    plt.text(bar.get_x() + bar.get_width()/2.0, yval+60,yval, va='center', ha='center') # arrotondato a 2 cifre decimali\n",
    "\n",
    "plt.xlabel('Modello di Regressione')\n",
    "plt.ylabel('MAE')\n",
    "plt.title('Confronto di MAE tra i modelli di Regressione')\n",
    "plt.xticks(rotation=45, ha=\"right\")\n",
    "plt.tight_layout()\n",
    "\n",
    "# Mostrare il grafico\n",
    "plt.savefig('res/models plots/MAE_comparison.png')\n",
    "plt.show()"
   ]
  },
  {
   "cell_type": "markdown",
   "id": "1fb5db41-6349-4ceb-bd91-d25ce0940699",
   "metadata": {},
   "source": [
    "### R2"
   ]
  },
  {
   "cell_type": "code",
   "execution_count": 66,
   "id": "7b3d642f-fc0e-4803-a56b-ea7b2a3aac8d",
   "metadata": {
    "tags": []
   },
   "outputs": [
    {
     "data": {
      "image/png": "[encoded data removed]",
      "text/plain": [
       "<Figure size 1000x600 with 1 Axes>"
      ]
     },
     "metadata": {},
     "output_type": "display_data"
    }
   ],
   "source": [
    "r2_values = [\n",
    "    13.130,  # Linear Regression\n",
    "    13.130,  # Lasso Regression\n",
    "    13.130,  # Ridge Regression\n",
    "    65.400,  # Decision Tree Regression\n",
    "    65.733,  # Random Forest Regression\n",
    "    64.870,  # Gradient Boosting Regression\n",
    "    64.870,  # XG Boosting Regression\n",
    "    65.842,  # Light Gradient Boosting Regression\n",
    "    38.840   # CatBoosting Regression\n",
    "]\n",
    "plt.figure(figsize=(10, 6))\n",
    "\n",
    "bars = plt.bar(models, r2_values, color='plum')\n",
    "\n",
    "# Aggiunta del valore esatto su ogni barra\n",
    "for bar in bars:\n",
    "    yval = bar.get_height()\n",
    "    plt.text(bar.get_x() + bar.get_width()/2.0, yval+0.8,yval, va='center', ha='center') # arrotondato a 2 cifre decimali\n",
    "\n",
    "plt.xlabel('Modello di Regressione')\n",
    "plt.ylabel('R2')\n",
    "plt.title('Confronto di R2 tra i modelli di Regressione')\n",
    "plt.xticks(rotation=45, ha=\"right\")\n",
    "plt.tight_layout()\n",
    "\n",
    "# Mostrare il grafico\n",
    "plt.savefig('res/models plots/R2_comparison.png')\n",
    "plt.show()"
   ]
  }
 ],
 "metadata": {
  "environment": {
   "kernel": "python3",
   "name": "common-cpu.m116",
   "type": "gcloud",
   "uri": "gcr.io/deeplearning-platform-release/base-cpu:m116"
  },
  "kernelspec": {
   "display_name": "Python 3 (Local)",
   "language": "python",
   "name": "python3"
  },
  "language_info": {
   "codemirror_mode": {
    "name": "ipython",
    "version": 3
   },
   "file_extension": ".py",
   "mimetype": "text/x-python",
   "name": "python",
   "nbconvert_exporter": "python",
   "pygments_lexer": "ipython3",
   "version": "3.10.13"
  }
 },
 "nbformat": 4,
 "nbformat_minor": 5
}
